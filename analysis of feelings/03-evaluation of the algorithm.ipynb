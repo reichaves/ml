{
 "cells": [
  {
   "cell_type": "code",
   "execution_count": 2,
   "metadata": {},
   "outputs": [],
   "source": [
    "import nltk"
   ]
  },
  {
   "cell_type": "code",
   "execution_count": null,
   "metadata": {},
   "outputs": [],
   "source": []
  },
  {
   "cell_type": "markdown",
   "metadata": {},
   "source": [
    "Matrix of confusion\n",
    "\n",
    "Array of real values and values predicted by your classifier. The intersections of classes (training base and test base) will show the number of hits and errors\n",
    "\n",
    "Ways to evaluate if the percentage of hits is acceptable:\n",
    "\n",
    "1 - Scenario / context\n",
    "If your algorithm works with a sensitive sector such as health and safety, only very high percentages are acceptable. Also check if other similar algorithms have much better percentages is a good practice\n",
    "\n",
    "2 - Number of classes\n",
    "For example, if you have 3 classes to evaluate the random chance of guessing / guessing a class is 33.33%. If the algorithm has a lower percentage it is better to use a random function\n",
    "\n",
    "3 - Zero rules\n",
    "The class that has more items is used as a hit reference. So the algorithm has to have a higher percentage than that"
   ]
  },
  {
   "cell_type": "code",
   "execution_count": null,
   "metadata": {},
   "outputs": [],
   "source": []
  },
  {
   "cell_type": "markdown",
   "metadata": {},
   "source": [
    "Training Base"
   ]
  },
  {
   "cell_type": "code",
   "execution_count": 3,
   "metadata": {},
   "outputs": [],
   "source": [
    "basetreinamento = [\n",
    "('este trabalho e agradável','alegria'),\n",
    "('gosto de ficar no seu aconchego','alegria'),\n",
    "('fiz a adesão ao curso hoje','alegria'),\n",
    "('eu sou admirada por muitos','alegria'),\n",
    "('adoro como você e','alegria'),\n",
    "('adoro seu cabelo macio','alegria'),\n",
    "('adoro a cor dos seus olhos','alegria'),\n",
    "('somo tão amáveis um com o outro','alegria'),\n",
    "('sinto uma grande afeição por ele','alegria'),\n",
    "('quero agradar meus filhos','alegria'),\n",
    "('me sinto completamente amado','alegria'),\n",
    "('eu amo você','alegria'),\n",
    "('que grande alivio','alegria'),\n",
    "('a dor esta amenizando finalmente','alegria'),\n",
    "('acho que me apaixonei','alegria'),\n",
    "('amar e maravilhoso','alegria'),\n",
    "('estou me sentindo muito animada','alegria'),\n",
    "('me sinto muito bem hoje','alegria'),\n",
    "('como o luar e belo','alegria'),\n",
    "('o dia esta muito bonito','alegria'),\n",
    "('nossa como sou afortunado','alegria'),\n",
    "('as maravilhas do mundo','alegria'),\n",
    "('recebi muito carinho hoje do meus colegas','alegria'),\n",
    "('estou me sentindo reconfortada hoje','alegria'),\n",
    "('e muito bom estar com os amigos','alegria'),\n",
    "('estou muito contente com o resultado dos testes','alegria'),\n",
    "('essa pintura esta bem brilhante','alegria'),\n",
    "('temos água em abundancia','alegria'),\n",
    "('que roupa delicada','alegria'),\n",
    "('você e um grande comediante','alegria'),\n",
    "('que bondade a sua em vir aqui','alegria'),\n",
    "('o amor e lindo','alegria'),\n",
    "('nossa amizade vai durar para sempre','alegria'),\n",
    "('estou eufórica com a noticia','alegria'),\n",
    "('ele e realmente fiel a mim','alegria'),\n",
    "('vou dar uma grande festa para comemorar meu aniversário','alegria'),\n",
    "('graças a deus que eu enxerguei o certo','alegria'),\n",
    "('essa e a melhor escolhas de todas','alegria'),\n",
    "('o mais incrível e você minha bela','alegria'),\n",
    "('e tão engraçado tentar explicar','alegria'),\n",
    "('e emocionante estar neste lugar','alegria'),\n",
    "('estou cativada pelo seu olhar','alegria'),\n",
    "('estou loucamente apaixonada','alegria'),\n",
    "('eu nunca tive duvidas','alegria'),\n",
    "('estou rodeada pelo seu abraço','alegria'),\n",
    "('eu vejo estrelas pelo caminho','alegria'),\n",
    "('eu sinto o sol sempre que você esta por perto','alegria'),\n",
    "('eu estou sorrindo de orelha a orelha','alegria'),\n",
    "('isso vale a pena','alegria'),\n",
    "('finalmente você colocou meu amor em primeiro lugar','alegria'),\n",
    "('nós dançamos noite adentro','alegria'),\n",
    "('seu amor e brilhante','alegria'),\n",
    "('toquei muitos corações durante o meu caminho','alegria'),\n",
    "('eu serei sua amiga e companheira','alegria'),\n",
    "('você me traz de volta a vida','alegria'),\n",
    "('você e como um sonho doce','alegria'),\n",
    "('adoro este doce de frutas','alegria'),\n",
    "('meu suco favorito','alegria'),\n",
    "('estou agradecida pela ajuda','alegria'),\n",
    "('e um enorme prazer ter você em nossa equipe','alegria'),\n",
    "('trabalhar em equipe e o melhor','alegria'),\n",
    "('me sinto flutuando no ar','alegria'),\n",
    "('a brisa esta agradável hoje','alegria'),\n",
    "('ótimo e compatível','alegria'),\n",
    "('somos compatíveis um com o outro','alegria'),\n",
    "('o órgão e compatível com o paciente','alegria'),\n",
    "('estou contente fui aceita na faculdade','alegria'),\n",
    "('fui aprovada no meu exame','alegria'),\n",
    "('fui beneficiada pela minha empresa','alegria'),\n",
    "('eu sou muito cativante','alegria'),\n",
    "('estou contente com o apoio','alegria'),\n",
    "('como este lugar e confortável','alegria'),\n",
    "('e bom estar quente neste frio','alegria'),\n",
    "('um elogio nunca e demais','alegria'),\n",
    "('vou te chamar para comemorar','alegria'),\n",
    "('e desejável a sua presença em nossa apresentação','alegria'),\n",
    "('sou muito grata a você','alegria'),\n",
    "('me dedico muito naquilo que faço','alegria'),\n",
    "('estou completamente apaixonada ','alegria'),\n",
    "('vamos agitar essa noite ','alegria'),\n",
    "('você significa muito para mim','alegria'),\n",
    "('vamos agir sem preconceitos e julgamentos','alegria'),\n",
    "('finalmente completei a minha coleção, maravilhoso','alegria'),\n",
    "('eu sou sua rainha ','alegria'),\n",
    "('satisfatoriamente eu anuncio o vencedor dos jogos','alegria'),\n",
    "('você me atrai facilmente ','alegria'),\n",
    "('aquele rapaz e extremamente atraente','alegria'),\n",
    "('sinto-me viva ','alegria'),\n",
    "('sinto-me em paz ','alegria'),\n",
    "('estamos tendo muito lucro','alegria'),\n",
    "('muito bem esta tudo em ordem agora ','alegria'),\n",
    "('podemos arrumar um emprego juntos ','alegria'),\n",
    "('a arrumação esta terminada, que alívio','alegria'),\n",
    "('o câncer e benigno ','alegria'),\n",
    "('o amor e abundante','alegria'),\n",
    "('vamos ser caridosos este natal','alegria'),\n",
    "('com todo esse charme você irá atrair a todos','alegria'),\n",
    "('nossa como você e charmoso querido ','alegria'),\n",
    "('sou querida pelos meu amigos','alegria'),\n",
    "('seja cuidadoso com os meus sentimentos','alegria'),\n",
    "('estou comovido com tamanha caridade','alegria'),\n",
    "('um chá quente e reconfortante','alegria'),\n",
    "('que alegria ter vocês aqui ','alegria'),\n",
    "('vamos aplaudir o vencedor ','alegria'),\n",
    "('palmas para a aniversariante','alegria'),\n",
    "('desejo a você tudo de bom','alegria'),\n",
    "('hora de apreciar um bom vinho','alegria'),\n",
    "('aprecio sua presença em minha escola','alegria'),\n",
    "('anseio por seus próximos trabalhos','alegria'),\n",
    "('maravilhoso jogo amistoso','alegria'),\n",
    "('e ótimo que os ânimos tenham se apaziguado','alegria'),\n",
    "('concretizei finalmente meu sonho','alegria'),\n",
    "\n",
    "('você e abominável','desgosto'),\n",
    "('abomino a maneira como você age','desgosto'),\n",
    "('estou adoentado','desgosto'),\n",
    "('meu pai esta adoentado','desgosto'),\n",
    "('estamos todos doentes','desgosto'),\n",
    "('essa situação e muito amarga','desgosto'),\n",
    "('disse adeus amargamente','desgosto'),\n",
    "('tenho antipatia por aquela pessoa','desgosto'),\n",
    "('como pode ser tão antipática!','desgosto'),\n",
    "('que horrível seu asqueroso','desgosto'),\n",
    "('tenho aversão agente como você','desgosto'),\n",
    "('isso tudo e só chateação','desgosto'),\n",
    "('estou muito chateada com suas mentiras','desgosto'),\n",
    "('tão desagradável','desgosto'),\n",
    "('isso me desagrada completamente','desgosto'),\n",
    "('te desagrada isso','desgosto'),\n",
    "('estou com enjôos terríveis','desgosto'),\n",
    "('todos estão enfermos','desgosto'),\n",
    "('foi uma enfermidade terrível','desgosto'),\n",
    "('isso e muito grave','desgosto'),\n",
    "('não seja tão grosseiro','desgosto'),\n",
    "('você fez uma manobra ilegal','desgosto'),\n",
    "('sua indecente, não tem vergonha?','desgosto'),\n",
    "('você e malvado com as crianças','desgosto'),\n",
    "('que comentário maldoso','desgosto'),\n",
    "('sem escrúpulos você manipula a tudo','desgosto'),\n",
    "('sinto repulsa por você','desgosto'),\n",
    "('e repulsivo a maneira como olha para as pessoas','desgosto'),\n",
    "('estou indisposta','desgosto'),\n",
    "('a indisposição me atacou hoje','desgosto'),\n",
    "('acho que vou vomitar','desgosto'),\n",
    "('tem muito vomito lá','desgosto'),\n",
    "('que incomodo essa dor','desgosto'),\n",
    "('não me incomode nunca mais','desgosto'),\n",
    "('suas bobagens estão nos incomodando','desgosto'),\n",
    "('que nojo olha toda essa sujeira','desgosto'),\n",
    "('como isso está sujo','desgosto'),\n",
    "('tenho náuseas só de lembrar','desgosto'),\n",
    "('me sinto nauseada com o cheiro desta comida','desgosto'),\n",
    "('você esta obstruindo a passagem de ar','desgosto'),\n",
    "('você esta terrivelmente doente','desgosto'),\n",
    "('olhe que feia esta roupa','desgosto'),\n",
    "('que atitude deplorável','desgosto'),\n",
    "('nossa como você e feio','desgosto'),\n",
    "('muito mau tudo isso','desgosto'),\n",
    "('estou desgostoso com você','desgosto'),\n",
    "('você cortou o meu assunto','desgosto'),\n",
    "('para que tanta chateação?','desgosto'),\n",
    "('esse perfume e enjoativo','desgosto'),\n",
    "('ser perigoso não nada bom','desgosto'),\n",
    "('você e perigoso demais para minha filhas','desgosto'),\n",
    "('que fetido este esgoto','desgosto'),\n",
    "('que fedido você esta','desgosto'),\n",
    "('que cachorro malcheiroso','desgosto'),\n",
    "('hora que ultraje','desgosto'),\n",
    "('e ultrajante da sua parte','desgosto'),\n",
    "('situação desagradável essa','desgosto'),\n",
    "('você só me da desgosto','desgosto'),\n",
    "('tenho aversão a pessoas assim','desgosto'),\n",
    "('antipatia e um mal da sociedade','desgosto'),\n",
    "('que criatura abominável','desgosto'),\n",
    "('e depressiva a maneira como você vê o mundo','desgosto'),\n",
    "('me desagrada sua presença na festa','desgosto'),\n",
    "('sinto asco dessa coisa','desgosto'),\n",
    "('que hediondo!','desgosto'),\n",
    "('vou golfar o cafe fora','desgosto'),\n",
    "('hora que garota detestável!','desgosto'),\n",
    "('estou nauseada','desgosto'),\n",
    "('isso que você disse foi muito grave','desgosto'),\n",
    "('não seja obsceno na frente das crianças','desgosto'),\n",
    "('não seja rude com as visitas','desgosto'),\n",
    "('esse assunto me da repulsa','desgosto'),\n",
    "('que criança terrivelmente travessa','desgosto'),\n",
    "('que criança mal educada','desgosto'),\n",
    "('estou indisposta te dar o divorcio','desgosto'),\n",
    "('tão patetico, não tem nada mais rude para dizer?','desgosto'),\n",
    "('por motivo torpe, com emprego de meio cruel e com impossibilidade de defesa para a vítima','desgosto'),\n",
    "('a inveja e tão vil e vergonhosa que ninguem se atreve a confessá-la','desgosto'),\n",
    "('o miserável receio de ser sentimental e o mais vil de todos os receios modernos','desgosto'),\n",
    "('travesso gato quando fica com saudades do dono mija no sapato','desgosto'),\n",
    "('isso e um ato detestável e covarde','desgosto'),\n",
    "('revelam apenas o que e destrutivo e detestável para o povo','desgosto'),\n",
    "('não sei como e a vida de um patife, mais a de um homem honesto e abominável','desgosto'),\n",
    "('há coisas que temos que suportar para não acharmos a vida insuportável','desgosto'),\n",
    "('as injurias do tempo e as injustiças do homem','desgosto'),\n",
    "('odioso e desumano','desgosto'),\n",
    "('você não publicará conteúdo odiento, pornográfico ou ameaçador','desgosto'),\n",
    "('rancoroso e reprimido','desgosto'),\n",
    "('não há animal mais degradante, estúpido, covarde, lamentável, egoísta, rancoroso e invejoso do que o homem','desgosto'),\n",
    "('o virulento debate ente políticos','desgosto'),\n",
    "\n",
    "('eu imploro, não me matem!','medo'),\n",
    "('tem certeza que não e perigoso?','medo'),\n",
    "('não tenho certeza se e seguro','medo'),\n",
    "('tenho que correr pra não me pegarem','medo'),\n",
    "('socorro! ele queria roubar os meus doces!','medo'),\n",
    "('esse cara está me perseguindo','medo'),\n",
    "('não entro lá, e um lugar muito perigoso','medo'),\n",
    "('este lugar continua assustador','medo'),\n",
    "('na selva tem muitos animais perigosos','medo'),\n",
    "('avancem com cautela','medo'),\n",
    "('este lugar está silencioso de mais, cuidado!','medo'),\n",
    "('por favor, deixe-me viver!','medo'),\n",
    "('vou ficar sem mesada se tirar nota baixa','medo'),\n",
    "('parece que tem olhos nos vigiando','medo'),\n",
    "('eu temo que a sentença do juiz possa ser negativa','medo'),\n",
    "('mas essa missão e arriscada','medo'),\n",
    "('salvem-se quem puder!','medo'),\n",
    "('meu plano pode ser descoberto','medo'),\n",
    "('não tive culpa, juro não fui eu','medo'),\n",
    "('tenho que tomar cuidado com o lobisomem','medo'),\n",
    "('se eu não achar, ele vai descobrir a verdade','medo'),\n",
    "('meu deus, ele desapareceu!','medo'),\n",
    "('tomara que eles não me vejam daqui!','medo'),\n",
    "('mantenha isso em segredo, se descobrirem estaremos ferrados','medo'),\n",
    "('por favor, me soltem, eu sou inocente','medo'),\n",
    "('estou ouvindo passos atrás de mim','medo'),\n",
    "('eu vou pedir socorro!','medo'),\n",
    "('cuidado com as curvas na estrada','medo'),\n",
    "('não sei não, parece perigoso','medo'),\n",
    "('estou tremendo de medo!','medo'),\n",
    "('socorro, eu vou cair!','medo'),\n",
    "('eu não vou ate a floresta negra, e muito perigoso','medo'),\n",
    "('ouço passos na minha direção','medo'),\n",
    "('acho que está arriscado de mais','medo'),\n",
    "('vamos voltar, e muito perigoso','medo'),\n",
    "('fuja, se não acabaremos mortos','medo'),\n",
    "('receio por não me livrar desta situação','medo'),\n",
    "('socorro! ele está armado!','medo'),\n",
    "('ei cuidado, você vai bater no poste!','medo'),\n",
    "('socorro, nós estamos afundando','medo'),\n",
    "('e serio, cuidado com essa arma!','medo'),\n",
    "('os tubarões estão atacando!','medo'),\n",
    "('sinto arrepios quando fico sozinho no escuro','medo'),\n",
    "('calma, eu não estou com o dinheiro','medo'),\n",
    "('eu acho que estou sendo enganado','medo'),\n",
    "('ligeiro, temos que fugir depressa','medo'),\n",
    "('tem um crocodilo selvagem vindo para cá','medo'),\n",
    "('se ficarmos quietos eles não vão nos achar','medo'),\n",
    "('fuja! o tigre parece faminto','medo'),\n",
    "('estou sem saída, preciso de um milagre','medo'),\n",
    "('tire isso de mim! socorro!','medo'),\n",
    "('não sei nadar, vou me afogar!','medo'),\n",
    "('não tenho certeza se e seguro','medo'),\n",
    "('vou apanhar se meus pais verem meu boletim','medo'),\n",
    "('não consigo sair daqui!','medo'),\n",
    "('se sair tão tarde, poderei ser assaltada','medo'),\n",
    "('não me deixe por favor!','medo'),\n",
    "('espere, não pode me largar aqui sozinho','medo'),\n",
    "('temo pela sua segurança','medo'),\n",
    "('eu te entrego o dinheiro, por favor não me mate!','medo'),\n",
    "('ele vai levar todo o meu dinheiro','medo'),\n",
    "('não dirija tão rápido assim','medo'),\n",
    "('me descobriram, irão me prender!','medo'),\n",
    "('só espero que não me façam nenhum mal','medo'),\n",
    "('vou me afogar, me ajudem a sair da água','medo'),\n",
    "('não estaremos a salvo aqui','medo'),\n",
    "('não quero nem pensar no que pode acontecer','medo'),\n",
    "('nessa cidade e uma desgraça atrás da outra','medo'),\n",
    "('alguem esta me ligando, estou assustado','medo'),\n",
    "('isso não e remedio, não me matem','medo'),\n",
    "('eu não confio nele, tenho que ter cautela','medo'),\n",
    "('muita cautela','medo'),\n",
    "('vou ser descoberto, meu deus','medo'),\n",
    "('receio que terei de ir','medo'),\n",
    "('a noite e muito perigosa','medo'),\n",
    "('estou estremecendo com essa casa','medo'),\n",
    "('olha aquela criatura se movendo monstruosamente','medo'),\n",
    "('não agüento este suspense','medo'),\n",
    "('afugente os cães','medo'),\n",
    "('estou chocado e amedrontado com este assassinato brutal','medo'),\n",
    "('e preciso afugenta com ímpeto este medo do inferno','medo'),\n",
    "('seu políticos usam suas forças para afugentar e amedrontar o povo','medo'),\n",
    "('o objetivo disso e apenas me amedrontar mais','medo'),\n",
    "('isso me apavora','medo'),\n",
    "\n",
    "('ele a feriu profundamente','raiva'),\n",
    "('vou despejar minha cólera em você','raiva'),\n",
    "('me sinto atormentado','raiva'),\n",
    "('não me contrarie','raiva'),\n",
    "('vou destruir tudo  que foi construído','raiva'),\n",
    "('não consigo terminar este trabalho, e muito frustrante','raiva'),\n",
    "('me frustra a sua presença aqui','raiva'),\n",
    "('esta comida me parece muito ruim','raiva'),\n",
    "('você me destrói','raiva'),\n",
    "('estamos separados','raiva'),\n",
    "('estou odiando este vestido','raiva'),\n",
    "('não pude comprar meu celular hoje','raiva'),\n",
    "('ela e uma garota ruim','raiva'),\n",
    "('estivemos em um show horroroso','raiva'),\n",
    "('o ingresso estava muito caro','raiva'),\n",
    "('se eu estragar tudo vai por água a baixo','raiva'),\n",
    "('não possuo dinheiro algum','raiva'),\n",
    "('sou muito pobre','raiva'),\n",
    "('vai prejudicar a todos esta nova medida','raiva'),\n",
    "('ficou ridículo','raiva'),\n",
    "('este sapato esta muito apertado','raiva'),\n",
    "('a musica e uma ofensa aos meus ouvidos','raiva'),\n",
    "('não consigo terminar uma tarefa muito difícil','raiva'),\n",
    "('reprovei em minha graduação','raiva'),\n",
    "('estou muito chateado com tudo','raiva'),\n",
    "('eu odeio em você','raiva'),\n",
    "('e um desprazer conhecê-lo','raiva'),\n",
    "('estou desperdiçando minhas ferias','raiva'),\n",
    "('e muito ruim este jogo','raiva'),\n",
    "('vamos ter muito rancor pela frente','raiva'),\n",
    "('não achei que seria tão terrível','raiva'),\n",
    "('vou vetar o orçamento ao cliente','raiva'),\n",
    "('meus pais não consentiram nosso casamento','raiva'),\n",
    "('eu odiei este perfume','raiva'),\n",
    "('seu descaso e frustrante','raiva'),\n",
    "('me sinto completamente amarga','raiva'),\n",
    "('desprezo muito o seu trabalho','raiva'),\n",
    "('estamos descontentes por nossa família','raiva'),\n",
    "('vou infernizar a sua empresa','raiva'),\n",
    "('estou furioso com estes valores','raiva'),\n",
    "('obrigaram o rapaz a sair','raiva'),\n",
    "('como ele pode deixar de lado?','raiva'),\n",
    "('são apenas injurias sobre mim','raiva'),\n",
    "('estou enfurecido com a situação dessa empresa','raiva'),\n",
    "('estou com o diabo no corpo','raiva'),\n",
    "('isso foi diabólico','raiva'),\n",
    "('tenho aversão à gente chata','raiva'),\n",
    "('não vou perdoar sua traição','raiva'),\n",
    "('esse dinheiro sujo e corrupto','raiva'),\n",
    "('eles me crucificam o tempo todo','raiva'),\n",
    "('eu vou enlouquecer com todo este barulho','raiva'),\n",
    "('não agüento todo esse assedio','raiva'),\n",
    "('cólera do dragão','raiva'),\n",
    "('isso e ridículo!','raiva'),\n",
    "('da próxima vez, vou inventar tudo sozinho','raiva'),\n",
    "('seus tolos! deixaram ele escapar!','raiva'),\n",
    "('jamais te perdoarei','raiva'),\n",
    "('o que e isso? outra multa','raiva'),\n",
    "('você passou dos limites!','raiva'),\n",
    "('sente-se e cale a boca','raiva'),\n",
    "('ingratosvermesvocês me pagam!','raiva'),\n",
    "('saiam da dai, se não arranco vocês dai!','raiva'),\n",
    "('você já me causou problemas suficientes','raiva'),\n",
    "('isso foi a gota d’agua','raiva'),\n",
    "('o que você tem com isso?','raiva'),\n",
    "('não vejo a hora de me livrar de você','raiva'),\n",
    "('já entendi a jogada seus safados!','raiva'),\n",
    "('você não merece piedade','raiva'),\n",
    "('saia de perto de mim','raiva'),\n",
    "('suma daqui, ou arranco seu couro!','raiva'),\n",
    "('estou revoltado com essa situação','raiva'),\n",
    "('seu idiota!','raiva'),\n",
    "('não, eu não vou te emprestar dinheiro!','raiva'),\n",
    "('você não passa de um cafajeste! vai embora','raiva'),\n",
    "('pare de frescura e vá trabalhar','raiva'),\n",
    "('eles merecem uma lição','raiva'),\n",
    "('ainda estou muito bravo com você','raiva'),\n",
    "('eu preciso surrar aquela chantagista','raiva'),\n",
    "('olha o que você fez! derramou!','raiva'),\n",
    "('você está pedindo pra apanhar!','raiva'),\n",
    "('me deixa em paz!','raiva'),\n",
    "('morra maldito, morra!','raiva'),\n",
    "('você e mais irritante de perto','raiva'),\n",
    "('e bom fechar o bico','raiva'),\n",
    "\n",
    "('magicamente você me surpreendeu','surpresa'),\n",
    "('e imenso esse globo','surpresa'),\n",
    "('isso e tremendamente interessante','surpresa'),\n",
    "('meu bilhete for sorteado, inacreditável!','surpresa'),\n",
    "('um assalto a mão armada!','surpresa'),\n",
    "('incrível, cabe em qualquer lugar!','surpresa'),\n",
    "('você por aqui?','surpresa'),\n",
    "('não dá pra acreditar no que ela me contou','surpresa'),\n",
    "('os convidados já estão chegando!','surpresa'),\n",
    "('puxa vida! nunca nos livramos de alguem tão depressa','surpresa'),\n",
    "('micha carteira sumiu, eu estava com ela na mão','surpresa'),\n",
    "('oh! um disco voador','surpresa'),\n",
    "('amigos, que bela surpresa!','surpresa'),\n",
    "('nunca pensei que veria isso e perto','surpresa'),\n",
    "('nem acredito que comi tanto','surpresa'),\n",
    "('não acredito que veio me ver','surpresa'),\n",
    "('não acredito que e  tão descarado','surpresa'),\n",
    "('me surpreende sua falta de tato','surpresa'),\n",
    "('o predio onde eles moravam desabou!','surpresa'),\n",
    "('inacreditável um bolo tão grande','surpresa'),\n",
    "('e serio mesmo? não dá pra acreditar','surpresa'),\n",
    "('como assim não vai ao nosso encontro?','surpresa'),\n",
    "('como assim não tem ninguem em casa?','surpresa'),\n",
    "('ue, mas para onde ele foi?!','surpresa'),\n",
    "('por essa eu não esperava','surpresa'),\n",
    "('nossa, olha só que mergulho','surpresa'),\n",
    "('minha esposa está grávida!','surpresa'),\n",
    "('meu dinheiro sumiu!','surpresa'),\n",
    "('e verdade que os dois terminaram?!?','surpresa'),\n",
    "('caramba, nem vi você chegar','surpresa'),\n",
    "('nossa, como pode alguem cozinhar tão mal?','surpresa'),\n",
    "('nossa que incrível','surpresa'),\n",
    "('a fórmula sumiu!','surpresa'),\n",
    "('eu nem acredito que já estou terminando o curso','surpresa'),\n",
    "('não acredito que esta aqui comigo novamente','surpresa'),\n",
    "('está escondendo algo de nós!','surpresa'),\n",
    "('como assim, ainda não terminou a tarefa','surpresa'),\n",
    "('pensei que já estivesse pronta!','surpresa'),\n",
    "('opa! quem apagou a luz?','surpresa'),\n",
    "('caramba! aonde vai tão rápido?','surpresa'),\n",
    "('estamos seguindo o caminho errado!','surpresa'),\n",
    "('quatro reais o litro da gasolina!','surpresa'),\n",
    "('me assustei ao vê-lo desse jeito!','surpresa'),\n",
    "('minha mãe está grávida, acredita nisso?','surpresa'),\n",
    "('parece mentira você ter crescido tanto','surpresa'),\n",
    "('me surpreende sua imaginação','surpresa'),\n",
    "('suas roupas são realmente lindas','surpresa'),\n",
    "('com consegue ser tão bela?','surpresa'),\n",
    "('essa e realmente uma casa deslumbrante','surpresa'),\n",
    "('superou minhas expectativas','surpresa'),\n",
    "('e admirável a maneira como se comporta','surpresa'),\n",
    "('isso e realmente chocante','surpresa'),\n",
    "('algumas noticias me surpreenderam no noticiário','surpresa'),\n",
    "('surpreendente sua festa','surpresa'),\n",
    "('estou tremendo de alegria','surpresa'),\n",
    "('chocou grande parte do mundo','surpresa'),\n",
    "('eu ficaria muito espantado com a sua vinda','surpresa'),\n",
    "('ele e admirável','surpresa'),\n",
    "('sua beleza me surpreendeu','surpresa'),\n",
    "('seus olhos são surpreendentemente verdes','surpresa'),\n",
    "('os políticos se surpreendem quando alguem acredita neles','surpresa'),\n",
    "('estou perplexa com essas denuncias','surpresa'),\n",
    "('fiquei perplexo com suas palavras','surpresa'),\n",
    "('estou abismado com sua prosa','surpresa'),\n",
    "('eu ficaria realmente abismado se me dissessem isso','surpresa'),\n",
    "('o grupo foi surpreendido enquanto lavava o carro','surpresa'),\n",
    "('estou boquiaberto com as imagens','surpresa'),\n",
    "('estou boquiaberto com essas suas palavras','surpresa'),\n",
    "('esse quadro e maravilhoso','surpresa'),\n",
    "('este carro me deixou maravilhado','surpresa'),\n",
    "('estou maravilhada','surpresa'),\n",
    "('essa expectativa esta me matando','surpresa'),\n",
    "('vou caminhar sempre na expectativa de encontrá-lo','surpresa'),\n",
    "('você emudece minhas palavras','surpresa'),\n",
    "('minhas palavras vão emudecer se não parar de me surpreender','surpresa'),\n",
    "('a mulher e um efeito deslumbrante da natureza','surpresa'),\n",
    "('estou deslumbrada com essas jóias','surpresa'),\n",
    "('isso e romântico e deslumbrante','surpresa'),\n",
    "('isso pode ser surpreendentemente deslumbrante','surpresa'),\n",
    "('trabalho deslumbrante','surpresa'),\n",
    "('essas pessoas são esplêndida','surpresa'),\n",
    "('e esplendido como o ceu se encontra no momento','surpresa'),\n",
    "('e um carro fantástico','surpresa'),\n",
    "('um edifício realmente fantástico','surpresa'),\n",
    "\n",
    "('por favor não me abandone','tristeza'),\n",
    "('não quero ficar sozinha','tristeza'),\n",
    "('não me deixe sozinha','tristeza'),\n",
    "('estou abatida','tristeza'),\n",
    "('ele esta todo abatido','tristeza'),\n",
    "('tão triste suas palavras','tristeza'),\n",
    "('seu amor não e mais meu','tristeza'),\n",
    "('estou aborrecida','tristeza'),\n",
    "('isso vai me aborrecer','tristeza'),\n",
    "('estou com muita aflição','tristeza'),\n",
    "('me aflige o modo como fala','tristeza'),\n",
    "('estou em agonia com meu intimo','tristeza'),\n",
    "('não quero fazer nada','tristeza'),\n",
    "('me sinto ansiosa e tensa','tristeza'),\n",
    "('não consigo parar de chorar','tristeza'),\n",
    "('não consigo segurar as lagrimas','tristeza'),\n",
    "('e muita dor perder um ente querido','tristeza'),\n",
    "('estou realmente arrependida','tristeza'),\n",
    "('acho que o carma volta, pois agora sou eu quem sofro','tristeza'),\n",
    "('você não cumpriu suas promessas','tristeza'),\n",
    "('me sinto amargurada','tristeza'),\n",
    "('coitado esta tão triste','tristeza'),\n",
    "('já e tarde de mais','tristeza'),\n",
    "('nosso amor acabou','tristeza'),\n",
    "('essa noite machuca só para mim','tristeza'),\n",
    "('eu não estou mais no seu coração','tristeza'),\n",
    "('você mudou comigo','tristeza'),\n",
    "('quando eu penso em você realmente dói','tristeza'),\n",
    "('como se fosse nada você vê minhas lagrimas','tristeza'),\n",
    "('você disse cruelmente que não se arrependeu','tristeza'),\n",
    "('eu nunca mais vou te ver','tristeza'),\n",
    "('ela esta com depressão','tristeza'),\n",
    "('a depressão aflige as pessoas','tristeza'),\n",
    "('estar depressivo e muito ruim','tristeza'),\n",
    "('estou derrotada e deprimida depois deste dia','tristeza'),\n",
    "('e comovente te ver dessa maneira','tristeza'),\n",
    "('e comovente ver o que os filhos do brasil passam','tristeza'),\n",
    "('como me sinto culpada','tristeza'),\n",
    "('estou abatida','tristeza'),\n",
    "('a ansiedade tomou conta de mim','tristeza'),\n",
    "('as pessoas não gostam do meu jeito','tristeza'),\n",
    "('adeus passamos bons momentos juntos','tristeza'),\n",
    "('sinto sua falta','tristeza'),\n",
    "('ele não gostou da minha comida','tristeza'),\n",
    "('estou sem dinheiro para a comida','tristeza'),\n",
    "('queria que fosse o ultimo dia da minha vida','tristeza'),\n",
    "('você está com vergonha de mim','tristeza'),\n",
    "('ela não aceitou a minha proposta','tristeza'),\n",
    "('era o meu ultimo centavo','tristeza'),\n",
    "('reprovei de ano na faculdade','tristeza'),\n",
    "('afinal você só sabe me desfazer','tristeza'),\n",
    "('eu falhei em tudo nessa vida','tristeza'),\n",
    "('eu fui muito humilhado','tristeza'),\n",
    "('e uma história muito triste','tristeza'),\n",
    "('ninguem acredita em mim','tristeza'),\n",
    "('eu não sirvo para nada mesmo','tristeza'),\n",
    "('droga, não faço nada direito','tristeza'),\n",
    "('sofrimento em dobro na minha vida','tristeza'),\n",
    "('fui demitida essa semana','tristeza'),\n",
    "('as crianças sofrem ainda mais que os adultos','tristeza'),\n",
    "('pra mim um dia e ruim, o outro e pior','tristeza'),\n",
    "('de repente perdi o apetite','tristeza'),\n",
    "('oh que dia infeliz','tristeza'),\n",
    "('estamos afundados em contas','tristeza'),\n",
    "('nem um milagre pode nos salvar','tristeza'),\n",
    "('só me resta a esperança','tristeza'),\n",
    "('pior que isso não pode ficar','tristeza'),\n",
    "('meu salário e baixo','tristeza'),\n",
    "('não passei no vestibular','tristeza'),\n",
    "('ninguem se importa comigo','tristeza'),\n",
    "('ninguem lembrou do meu aniversário','tristeza'),\n",
    "('tenho tanto azar','tristeza'),\n",
    "('o gosto da vingança e amargo','tristeza'),\n",
    "('sou uma mulher amargurada depois de que você me deixou','tristeza'),\n",
    "('estou desanimada com a vida','tristeza'),\n",
    "('e um desanimo só coitadinha','tristeza'),\n",
    "('a derrota e depressiva','tristeza'),\n",
    "('discriminar e desumano','tristeza'),\n",
    "('que desanimo','tristeza'),\n",
    "('e uma desonra para o pais','tristeza'),\n",
    "('a preocupação deveria nos levar a ação não a depressão','tristeza'),\n",
    "('passamos ao desalento e a loucura','tristeza'),\n",
    "('aquele que nunca viu a tristeza nunca reconhecerá a alegria','tristeza'),\n",
    "('cuidado com a tristeza ela e um vicio','tristeza')]"
   ]
  },
  {
   "cell_type": "code",
   "execution_count": null,
   "metadata": {},
   "outputs": [],
   "source": []
  },
  {
   "cell_type": "markdown",
   "metadata": {},
   "source": [
    "Test Base"
   ]
  },
  {
   "cell_type": "code",
   "execution_count": 4,
   "metadata": {},
   "outputs": [],
   "source": [
    "baseteste =[('não precisei pagar o ingresso','alegria'),\n",
    "('se eu ajeitar tudo fica bem','alegria'),\n",
    "('minha fortuna ultrapassa a sua','alegria'),\n",
    "('sou muito afortunado','alegria'),\n",
    "('e benefico para todos esta nova medida','alegria'),\n",
    "('ficou lindo','alegria'),\n",
    "('achei esse sapato muito simpático','alegria'),\n",
    "('estou ansiosa pela sua chegada','alegria'),\n",
    "('congratulações pelo seu aniversário','alegria'),\n",
    "('delicadamente ele a colocou para dormir','alegria'),\n",
    "('a musica e linda','alegria'),\n",
    "('sem musica eu não vivo','alegria'),\n",
    "('conclui uma tarefa muito difícil','alegria'),\n",
    "('conclui minha graduação','alegria'),\n",
    "('estou muito contente com tudo','alegria'),\n",
    "('eu confio em você','alegria'),\n",
    "('e um prazer conhecê-lo','alegria'),\n",
    "('o coleguismo de vocês e animador','alegria'),\n",
    "('estou aproveitando as ferias','alegria'),\n",
    "('vamos aproveitar as ferias','alegria'),\n",
    "('e muito divertido este jogo','alegria'),\n",
    "('vamos ter muita diversão','alegria'),\n",
    "('não achei que me divertiria tanto assim','alegria'),\n",
    "('vou consentir o orçamento ao cliente','alegria'),\n",
    "('com o consentimento dos meus pais podemos nos casar','alegria'),\n",
    "('eu adorei este perfume','alegria'),\n",
    "('sua bondade e cativante','alegria'),\n",
    "('estou despreocupada','alegria'),\n",
    "('não me preocupo com o que aconteceu','alegria'),\n",
    "('me sinto completamente segura','alegria'),\n",
    "('estimo muito o seu trabalho','alegria'),\n",
    "('somos estimados por nossa família','alegria'),\n",
    "('concretizamos nossa ideia','alegria'),\n",
    "('nosso ideal foi alcançado','alegria'),\n",
    "('estamos muito felizes juntos','alegria'),\n",
    "('estou tão animada com os preparativos para o casamento','alegria'),\n",
    "('você será muito amado meu filho','alegria'),\n",
    "('os apaixonados são maravilhosos','alegria'),\n",
    "('agradeço imensamente o seu apoio nestes dias','alegria'),\n",
    "('esta comida me parece muito atraente','alegria'),\n",
    "('você me completa','alegria'),\n",
    "('poderemos completar o projeto hoje!','alegria'),\n",
    "('estamos namorando','alegria'),\n",
    "('estou namorando este vestido a um tempo','alegria'),\n",
    "('pude comprar meu celular hoje','alegria'),\n",
    "('e um deleite poder compartilhar minhas vitórias','alegria'),\n",
    "('ela e um boa garota','alegria'),\n",
    "('estivemos em um ótimo show','alegria'),\n",
    "\n",
    "('o mundo e feio como o pecado','desgosto'),\n",
    "('a coisa mais difícil de esconder e aquilo que não existe','desgosto'),\n",
    "('você errou feio aquele gol','desgosto'),\n",
    "('nunca vou me casar sou muito feia','desgosto'),\n",
    "('os golpes da adversidade são terrivelmente amargos','desgosto'),\n",
    "('os homem ficam terrivelmente chatos','desgosto'),\n",
    "('abominavelmente convencido','desgosto'),\n",
    "('terrivelmente irritado','desgosto'),\n",
    "('as instituições publicas estão terrivelmente decadentes','desgosto'),\n",
    "('a população viveu em isolamento por muito tempo','desgosto'),\n",
    "('estou terrivelmente preocupada','desgosto'),\n",
    "('o nacionalismo e uma doença infantil','desgosto'),\n",
    "('se me es antipático a minha negação esta pronta','desgosto'),\n",
    "('muitos documentários sobre esse casal antipático','desgosto'),\n",
    "('sua beleza não desfaça sua antipatia','desgosto'),\n",
    "('esta e uma experiência desagradável','desgosto'),\n",
    "('desagradável estrago nos banheiros','desgosto'),\n",
    "('o mais irritante no amor e que se trata de um crime que precisa de um cúmplice','desgosto'),\n",
    "('a situação nos causa grande incomodo','desgosto'),\n",
    "('estou preocupado com o incomodo na garganta','desgosto'),\n",
    "('simplesmente não quero amolação da policia','desgosto'),\n",
    "('você e uma criaturinha muito impertinente','desgosto'),\n",
    "('o peso e a dor da vida','desgosto'),\n",
    "('me arrependo amargamente de minhas ações','desgosto'),\n",
    "('o destino e cruel e os homens não são dignos de compaixão','desgosto'),\n",
    "('o ódio conduz ao isolamento cruel e ao desespero','desgosto'),\n",
    "('encerrou com o massacre mais repudiável e asqueroso que se conhece','desgosto'),\n",
    "('de mal gosto e asqueroso','desgosto'),\n",
    "('tudo e inserto neste mundo hediondo','desgosto'),\n",
    "('o crime de corrupção e um crime hediondo','desgosto'),\n",
    "('o rio esta fetido e de cor escura','desgosto'),\n",
    "('muito lixo no rio o deixa malcheiroso','desgosto'),\n",
    "('existe uma laranja podre no grupo e já desconfiamos quem e','desgosto'),\n",
    "('foi de repente estou machucado e me sentindo enjoado','desgosto'),\n",
    "('eu fiquei enojado','desgosto'),\n",
    "('daqui alguns meses vou embora deste pais que já estou nauseado','desgosto'),\n",
    "\n",
    "('que abominável esse montro!','medo'),\n",
    "('vamos alarmar a todos sobre a situação','medo'),\n",
    "('estou amedrontada','medo'),\n",
    "('estou com muito medo da noite','medo'),\n",
    "('ele esta me ameaçando a dias','medo'),\n",
    "('quanta angustia','medo'),\n",
    "('estou angustiada','medo'),\n",
    "('angustiadamente vou sair e casa','medo'),\n",
    "('isso me deixa apavorada','medo'),\n",
    "('você esta me apavorando','medo'),\n",
    "('estou desconfiada de você','medo'),\n",
    "('não confio em você','medo'),\n",
    "('ate o cachorro está apavorado','medo'),\n",
    "('estou assustado com as ações do meu colega','medo'),\n",
    "('agora se sente humilhado, apavorado','medo'),\n",
    "('assustou a população e provocou mortes','medo'),\n",
    "('estou com dificuldades para respirar e muito assustado','medo'),\n",
    "('os policiais se assustaram quando o carro capotou','medo'),\n",
    "('o trabalhador e assombrado pelo temor do desemprego','medo'),\n",
    "('este lugar e mal assombrado','medo'),\n",
    "('estou assombrado pela crise financeira','medo'),\n",
    "('mesmo aterrorizado lembro de você','medo'),\n",
    "('aterrorizado e suando frio','medo'),\n",
    "('um grupo de elefantes selvagens tem aterrorizado vilas','medo'),\n",
    "('me sinto intimidada pela sua presença','medo'),\n",
    "('tenho medo de ser advertida novamente','medo'),\n",
    "('estou correndo o risco de ser advertido','medo'),\n",
    "('estou correndo riscos de saúde','medo'),\n",
    "('os riscos são reais','medo'),\n",
    "('podemos perder muito dinheiro com essa investida','medo'),\n",
    "('socorro, fui intimado a depor','medo'),\n",
    "('fui notificado e estou com medo de perde a guarda da minha filha','medo'),\n",
    "('estou angustiada com meus filhos na rua','medo'),\n",
    "('e abominável o que fazem com os animais','medo'),\n",
    "('foi terrível o tigre quase o matou','medo'),\n",
    "('me advertiram sobre isso','medo'),\n",
    "\n",
    "('ate que enfim, não agüentava mais te esperar','raiva'),\n",
    "('eu quero meu dinheiro de volta agora!','raiva'),\n",
    "('eu odeio a escola!','raiva'),\n",
    "('vou fazer picadinho de você','raiva'),\n",
    "('detesto trabalhar no verão','raiva'),\n",
    "('quero minha comida, e quero agora!','raiva'),\n",
    "('melhor você recolher minhas compras agora!','raiva'),\n",
    "('quero descer agora sua maluca','raiva'),\n",
    "('vou reclamar com o gerente!','raiva'),\n",
    "('vai engolir o que disse!','raiva'),\n",
    "('ele me ridiculariza diante de todos','raiva'),\n",
    "('não quero mais saber de você','raiva'),\n",
    "('vejo você na cadeia safado!','raiva'),\n",
    "('agora vou ter que pagar mais isso ainda!','raiva'),\n",
    "('saia logo do banheiro!','raiva'),\n",
    "('suba já para o seu quarto!','raiva'),\n",
    "('eu falei para calar a boca seu idiota!','raiva'),\n",
    "('eu disse para você cair fora!','raiva'),\n",
    "('não agüento mais que fiquem me culpando sem motivo!','raiva'),\n",
    "('não suporto olhar na sua cara!','raiva'),\n",
    "('eu não sou um elefante','raiva'),\n",
    "('juro que se olhar pra mim eu o mato!','raiva'),\n",
    "('chega, não quero saber mais deste assunto','raiva'),\n",
    "('como pode ser tão burro?','raiva'),\n",
    "('não me aborreça seu moleque','raiva'),\n",
    "('não quero me aborrecer com estas bobagens','raiva'),\n",
    "('ele me agrediu!','raiva'),\n",
    "('eu amaldiçôo você e a sua família','raiva'),\n",
    "('não me amole','raiva'),\n",
    "('não venha me amolar','raiva'),\n",
    "('isso tudo e uma tormenta','raiva'),\n",
    "('eu vou matar você','raiva'),\n",
    "('para que simplificar se você pode sempre complicar','raiva'),\n",
    "('isso esta me enlouquecendo','raiva'),\n",
    "('estou furiosa com você','raiva'),\n",
    "('isso mesmo fique furioso','raiva'),\n",
    "\n",
    "('esses livros são magníficos','surpresa'),\n",
    "('esse vinho e magnífico','surpresa'),\n",
    "('seria magnífico ver o esperaculo','surpresa'),\n",
    "('o casamento foi estupendo','surpresa'),\n",
    "('e um jogador bárbaro estupendo','surpresa'),\n",
    "('esse dia esta excelente','surpresa'),\n",
    "('o cantor estava excelente','surpresa'),\n",
    "('o universo e assombroso','surpresa'),\n",
    "('o amor e sublime','surpresa'),\n",
    "('sua sublime atuação','surpresa'),\n",
    "('e formidável meu caro walter','surpresa'),\n",
    "('como e formidável a presença de todos','surpresa'),\n",
    "('e formidável ter a quem dizer adeus','surpresa'),\n",
    "('e um conselheiro formidável o seu','surpresa'),\n",
    "('o artigo foi formidável','surpresa'),\n",
    "('pica pau e um destaque no imaginário brasileiro','surpresa'),\n",
    "('ah! o absoluto do imaginário','surpresa'),\n",
    "('isso foi surreal','surpresa'),\n",
    "('uma historia completamente surreal','surpresa'),\n",
    "('essas pinturas beiram o surreal','surpresa'),\n",
    "('você nem acreditam de tão surreal','surpresa'),\n",
    "('incrível!','surpresa'),\n",
    "('fiquei pasma com tudo isso','surpresa'),\n",
    "('você me deixa pasmo','surpresa'),\n",
    "('estou admirado com a sua astucia','surpresa'),\n",
    "('que bela surpresa você me fez','surpresa'),\n",
    "('não acredito que fez isso!','surpresa'),\n",
    "('isso foi apavorante','surpresa'),\n",
    "('isso tão de repente','surpresa'),\n",
    "('estou chocada com isso','surpresa'),\n",
    "('estou surpresa e desconsertada','surpresa'),\n",
    "('esta realmente deslumbrante querida','surpresa'),\n",
    "('fiquei completamente sem plavras','surpresa'),\n",
    "('e espantoso o modo como ele nos olha','surpresa'),\n",
    "('incrivel você estar aqui','surpresa'),\n",
    "('que fantástica festa minha querida','surpresa'),\n",
    "\n",
    "('isso tudo e um erro','tristeza'),\n",
    "('eu sou errada eu sou errante','tristeza'),\n",
    "('tenho muito dó do cachorro','tristeza'),\n",
    "('e dolorida a perda de um filho','tristeza'),\n",
    "('essa tragedia vai nos abalar para sempre','tristeza'),\n",
    "('perdi meus filhos','tristeza'),\n",
    "('perdi meu curso','tristeza'),\n",
    "('sou só uma chorona','tristeza'),\n",
    "('você e um chorão','tristeza'),\n",
    "('se arrependimento matasse','tristeza'),\n",
    "('me sinto deslocado em sala de aula','tristeza'),\n",
    "('foi uma passagem fúnebre','tristeza'),\n",
    "('nossa condolências e tristeza a sua perda','tristeza'),\n",
    "('desanimo, raiva, solidão ou vazies, depressão','tristeza'),\n",
    "('vivo te desanimando','tristeza'),\n",
    "('estou desanimado','tristeza'),\n",
    "('imperador sanguinário, depravado e temeroso','tristeza'),\n",
    "('meu ser esta em agonia','tristeza'),\n",
    "('este atrito entre nos tem que acabar','tristeza'),\n",
    "('a escuridão desola meu ser','tristeza'),\n",
    "('sua falsa preocupação','tristeza'),\n",
    "('sua falsidade me entristece','tristeza'),\n",
    "('quem esta descontente com os outros esta descontente consigo próprio','tristeza'),\n",
    "('a torcida esta descontente com a demissão do tecnico','tristeza'),\n",
    "('estou bastante aborrecido com o jornal','tristeza'),\n",
    "('me sinto solitário e entediado','tristeza'),\n",
    "('a vida e solitária para aqueles que não são falsos','tristeza'),\n",
    "('como com compulsão depois da depressão','tristeza'),\n",
    "('estou me desencorajando a viver','tristeza'),\n",
    "('ele desencoraja minhas vontades','tristeza'),\n",
    "('isso vai deprimindo por dentro','tristeza'),\n",
    "('acho que isso e defeituoso','tristeza'),\n",
    "('os remedios me derrubam na cama','tristeza'),\n",
    "('a depressão vai me derrubar','tristeza'),\n",
    "('suas desculpas são falsas','tristeza'),\n",
    "('não magoe as pessoas','tristeza')]"
   ]
  },
  {
   "cell_type": "code",
   "execution_count": null,
   "metadata": {},
   "outputs": [],
   "source": []
  },
  {
   "cell_type": "markdown",
   "metadata": {},
   "source": [
    "Stopwords in Portuguese"
   ]
  },
  {
   "cell_type": "code",
   "execution_count": 5,
   "metadata": {},
   "outputs": [],
   "source": [
    "stopwords_nltk = nltk.corpus.stopwords.words('portuguese')"
   ]
  },
  {
   "cell_type": "code",
   "execution_count": null,
   "metadata": {},
   "outputs": [],
   "source": []
  },
  {
   "cell_type": "markdown",
   "metadata": {},
   "source": [
    "Stemming - radical of words"
   ]
  },
  {
   "cell_type": "code",
   "execution_count": 6,
   "metadata": {},
   "outputs": [],
   "source": [
    "def aplicastemmer(texto):\n",
    "\tstemmer = nltk.stem.RSLPStemmer()\n",
    "\tfrasesstemming = []\n",
    "\t\n",
    "\tfor (palavras, emocao) in texto:\n",
    "\t\tcomstemming = [str(stemmer.stem(p)) for p in palavras.split() if p not in stopwords_nltk]\n",
    "\t\tfrasesstemming.append((comstemming, emocao))\n",
    "\n",
    "\treturn frasesstemming "
   ]
  },
  {
   "cell_type": "code",
   "execution_count": 7,
   "metadata": {},
   "outputs": [],
   "source": [
    "frasescomstemming = aplicastemmer(basetreinamento)"
   ]
  },
  {
   "cell_type": "code",
   "execution_count": null,
   "metadata": {},
   "outputs": [],
   "source": []
  },
  {
   "cell_type": "markdown",
   "metadata": {},
   "source": [
    "Listing of all words treated from the base"
   ]
  },
  {
   "cell_type": "code",
   "execution_count": 8,
   "metadata": {},
   "outputs": [],
   "source": [
    "def busca_palavras(frases):\n",
    "\ttodas_palavras = []\n",
    "\tfor (palavras, emocao) in frases:\n",
    "\t\ttodas_palavras.extend(palavras)\n",
    "\treturn todas_palavras\n",
    "\n",
    "palavras = busca_palavras(frasescomstemming)"
   ]
  },
  {
   "cell_type": "code",
   "execution_count": null,
   "metadata": {},
   "outputs": [],
   "source": []
  },
  {
   "cell_type": "markdown",
   "metadata": {},
   "source": [
    "Extraction of unique words"
   ]
  },
  {
   "cell_type": "code",
   "execution_count": 9,
   "metadata": {},
   "outputs": [],
   "source": [
    "def buscafrequencia(palavras):\n",
    "\tpalavras = nltk.FreqDist(palavras)\n",
    "\treturn palavras\n",
    "\n",
    "frequencia = buscafrequencia(palavras)"
   ]
  },
  {
   "cell_type": "code",
   "execution_count": null,
   "metadata": {},
   "outputs": [],
   "source": []
  },
  {
   "cell_type": "code",
   "execution_count": 10,
   "metadata": {},
   "outputs": [],
   "source": [
    "def busca_palavras_unicas(frequencia):\n",
    "\tfreq = frequencia.keys()\n",
    "\treturn freq\n",
    "\n",
    "palavras_unicas = busca_palavras_unicas(frequencia)"
   ]
  },
  {
   "cell_type": "code",
   "execution_count": null,
   "metadata": {},
   "outputs": [],
   "source": []
  },
  {
   "cell_type": "markdown",
   "metadata": {},
   "source": [
    "Extraction of words from each sentence"
   ]
  },
  {
   "cell_type": "code",
   "execution_count": 11,
   "metadata": {},
   "outputs": [],
   "source": [
    "def extrator_palavras(documento):\n",
    "\tdoc = set(documento)\n",
    "\tcaracteristicas = {}\n",
    "\tfor palavras in palavras_unicas:\n",
    "\t\tcaracteristicas['%s' % palavras] = (palavras in doc)\n",
    "\treturn caracteristicas\n",
    "\n",
    "caracteristicas_frase = extrator_palavras(['am', 'nov', 'dia']) "
   ]
  },
  {
   "cell_type": "code",
   "execution_count": null,
   "metadata": {},
   "outputs": [],
   "source": []
  },
  {
   "cell_type": "markdown",
   "metadata": {},
   "source": [
    "Extraction of words from all phrases"
   ]
  },
  {
   "cell_type": "code",
   "execution_count": 12,
   "metadata": {},
   "outputs": [],
   "source": [
    "base_completa = nltk.classify.apply_features(extrator_palavras, frasescomstemming)"
   ]
  },
  {
   "cell_type": "code",
   "execution_count": 13,
   "metadata": {},
   "outputs": [
    {
     "data": {
      "text/plain": [
       "[({'trabalh': True, 'agrad': True, 'gost': False, 'fic': False, 'aconcheg': False, 'fiz': False, 'ades': False, 'curs': False, 'hoj': False, 'admir': False, 'muit': False, 'ador': False, 'cabel': False, 'maci': False, 'cor': False, 'olh': False, 'som': False, 'tão': False, 'am': False, 'outr': False, 'sint': False, 'grand': False, 'afe': False, 'quer': False, 'filh': False, 'complet': False, 'amo': False, 'alivi': False, 'dor': False, 'ameniz': False, 'final': False, 'ach': False, 'apaixon': False, 'maravilh': False, 'sent': False, 'anim': False, 'bem': False, 'lu': False, 'bel': False, 'dia': False, 'bonit': False, 'afortun': False, 'mund': False, 'receb': False, 'car': False, 'coleg': False, 'reconfort': False, 'bom': False, 'est': False, 'amig': False, 'cont': False, 'result': False, 'test': False, 'pint': False, 'brilh': False, 'águ': False, 'abundanc': False, 'roup': False, 'delic': False, 'comedi': False, 'bondad': False, 'vir': False, 'aqu': False, 'lind': False, 'amizad': False, 'vai': False, 'dur': False, 'sempr': False, 'eufór': False, 'notic': False, 'real': False, 'fiel': False, 'mim': False, 'vou': False, 'dar': False, 'fest': False, 'comemor': False, 'aniversári': False, 'graç': False, 'deu': False, 'enxerg': False, 'cert': False, 'melhor': False, 'escolh': False, 'tod': False, 'incr': False, 'engraç': False, 'tent': False, 'explic': False, 'emocion': False, 'nest': False, 'lug': False, 'cativ': False, 'louc': False, 'nunc': False, 'duvid': False, 'rode': False, 'abraç': False, 'vej': False, 'estrel': False, 'caminh': False, 'sol': False, 'pert': False, 'sorr': False, 'orelh': False, 'val': False, 'pen': False, 'coloc': False, 'prim': False, 'danç': False, 'noit': False, 'adentr': False, 'toq': False, 'coraçã': False, 'companh': False, 'traz': False, 'volt': False, 'vid': False, 'sonh': False, 'doc': False, 'frut': False, 'suc': False, 'favorit': False, 'agradec': False, 'ajud': False, 'enorm': False, 'praz': False, 'ter': False, 'equip': False, 'flutu': False, 'ar': False, 'bris': False, 'ótim': False, 'compat': False, 'órg': False, 'paci': False, 'aceit': False, 'faculdad': False, 'aprov': False, 'exam': False, 'benefici': False, 'empr': False, 'apoi': False, 'confort': False, 'quent': False, 'fri': False, 'elogi': False, 'demal': False, 'cham': False, 'desej': False, 'presenç': False, 'apresent': False, 'grat': False, 'dedic': False, 'naquil': False, 'faç': False, 'vam': False, 'agit': False, 'signif': False, 'agir': False, 'preconceit': False, 'julg': False, 'coleção,': False, 'rainh': False, 'satisf': False, 'anunci': False, 'venc': False, 'jog': False, 'atr': False, 'facil': False, 'rapaz': False, 'extrem': False, 'atra': False, 'sinto-m': False, 'viv': False, 'paz': False, 'tend': False, 'lucr': False, 'tud': False, 'ord': False, 'agor': False, 'pod': False, 'arrum': False, 'empreg': False, 'junt': False, 'terminada,': False, 'alívi': False, 'cânc': False, 'benign': False, 'abund': False, 'ser': False, 'carid': False, 'natal': False, 'charm': False, 'irá': False, 'cuidad': False, 'comov': False, 'tamanh': False, 'caridad': False, 'chá': False, 'alegr': False, 'aplaud': False, 'palm': False, 'aniversari': False, 'hor': False, 'apreci': False, 'vinh': False, 'escol': False, 'ansei': False, 'próx': False, 'amist': False, 'ânim': False, 'apazigu': False, 'concretiz': False, 'abomin': False, 'man': False, 'age': False, 'adoent': False, 'pai': False, 'doent': False, 'situ': False, 'amarg': False, 'diss': False, 'adeu': False, 'antipat': False, 'pesso': False, 'antipática!': False, 'horr': False, 'asquer': False, 'avers': False, 'agent': False, 'chate': False, 'ment': False, 'desagrad': False, 'desagr': False, 'enjô': False, 'terr': False, 'enf': False, 'enferm': False, 'grav': False, 'gross': False, 'fez': False, 'manobr': False, 'ileg': False, 'indecente,': False, 'vergonha?': False, 'malv': False, 'crianç': False, 'coment': False, 'mald': False, 'escrúpul': False, 'manipul': False, 'repuls': False, 'indispost': False, 'indispos': False, 'atac': False, 'vomit': False, 'lá': False, 'incomod': False, 'bob': False, 'noj': False, 'suj': False, 'náuse': False, 'lembr': False, 'nause': False, 'cheir': False, 'dest': False, 'com': False, 'obstru': False, 'pass': False, 'terri': False, 'fei': False, 'atitud': False, 'deplor': False, 'mau': False, 'desgost': False, 'cort': False, 'assunt': False, 'tant': False, 'chateação?': False, 'perfum': False, 'enjo': False, 'perig': False, 'nad': False, 'fet': False, 'esgot': False, 'fed': False, 'cachorr': False, 'malcheir': False, 'ultraj': False, 'part': False, 'assim': False, 'mal': False, 'sociedad': False, 'criat': False, 'depress': False, 'vê': False, 'asc': False, 'dess': False, 'cois': False, 'hediondo!': False, 'golf': False, 'caf': False, 'garot': False, 'detestável!': False, 'obscen': False, 'frent': False, 'rud': False, 'visit': False, 'travess': False, 'educ': False, 'divorci': False, 'patetico,': False, 'dizer?': False, 'motiv': False, 'torpe,': False, 'mei': False, 'cruel': False, 'impossibil': False, 'defês': False, 'vítim': False, 'invej': False, 'vil': False, 'vergonh': False, 'ning': False, 'atrev': False, 'confessá-l': False, 'miser': False, 'recei': False, 'sentiment': False, 'modern': False, 'gat': False, 'saudad': False, 'don': False, 'mij': False, 'sapat': False, 'ato': False, 'detest': False, 'cov': False, 'revel': False, 'apen': False, 'destru': False, 'pov': False, 'sei': False, 'patife,': False, 'hom': False, 'honest': False, 'suport': False, 'insuport': False, 'injur': False, 'temp': False, 'injustiç': False, 'odi': False, 'desum': False, 'public': False, 'conteúd': False, 'odiento,': False, 'pornográf': False, 'ameaç': False, 'rancor': False, 'reprim': False, 'animal': False, 'degradante,': False, 'estúpido,': False, 'covarde,': False, 'lamentável,': False, 'egoísta,': False, 'virulent': False, 'debat': False, 'ent': False, 'polít': False, 'imploro,': False, 'matem!': False, 'perigoso?': False, 'segur': False, 'corr': False, 'pra': False, 'peg': False, 'socorro!': False, 'roub': False, 'doces!': False, 'persegu': False, 'entr': False, 'lá,': False, 'continu': False, 'assust': False, 'selv': False, 'avanc': False, 'cautel': False, 'silenci': False, 'mais,': False, 'cuidado!': False, 'favor,': False, 'deixe-m': False, 'viver!': False, 'mes': False, 'tir': False, 'not': False, 'baix': False, 'parec': False, 'vigi': False, 'tem': False, 'sentenç': False, 'juiz': False, 'poss': False, 'nega': False, 'miss': False, 'arrisc': False, 'salvem-s': False, 'puder!': False, 'plan': False, 'descobert': False, 'culpa,': False, 'jur': False, 'tom': False, 'cuid': False, 'lobisom': False, 'achar,': False, 'descobr': False, 'verdad': False, 'deus,': False, 'desapareceu!': False, 'daqui!': False, 'mantenh': False, 'segredo,': False, 'ferr': False, 'soltem,': False, 'inoc': False, 'ouv': False, 'atrás': False, 'ped': False, 'curv': False, 'estr': False, 'não,': False, 'trem': False, 'medo!': False, 'socorro,': False, 'cair!': False, 'ate': False, 'florest': False, 'negra,': False, 'ouç': False, 'direç': False, 'voltar,': False, 'fuja,': False, 'acab': False, 'mort': False, 'livr': False, 'armado!': False, 'ei': False, 'cuidado,': False, 'bat': False, 'poste!': False, 'afund': False, 'serio,': False, 'arma!': False, 'tub': False, 'atacando!': False, 'arrepi': False, 'so': False, 'escur': False, 'calma,': False, 'dinh': False, 'send': False, 'engan': False, 'ligeiro,': False, 'fug': False, 'crocodil': False, 'vind': False, 'cá': False, 'quiet': False, 'vão': False, 'fuja!': False, 'tigr': False, 'famint': False, 'saída,': False, 'precis': False, 'milagr': False, 'mim!': False, 'nadar,': False, 'afogar!': False, 'apanh': False, 'pal': False, 'ver': False, 'boletim': False, 'consig': False, 'sair': False, 'tarde,': False, 'assalt': False, 'deix': False, 'favor!': False, 'espere,': False, 'larg': False, 'seguranç': False, 'entreg': False, 'dinheiro,': False, 'favor': False, 'mate!': False, 'lev': False, 'dirij': False, 'rápid': False, 'descobriram,': False, 'irã': False, 'prender!': False, 'esper': False, 'nenhum': False, 'afogar,': False, 'salv': False, 'pens': False, 'acontec': False, 'ness': False, 'cidad': False, 'desgr': False, 'algu': False, 'ligando,': False, 'remedio,': False, 'mat': False, 'confi': False, 'nele,': False, 'descoberto,': False, 'ir': False, 'estremec': False, 'cas': False, 'mov': False, 'monstruos': False, 'agüent': False, 'suspens': False, 'afug': False, 'cão': False, 'choc': False, 'amedront': False, 'assassinat': False, 'brut': False, 'afugent': False, 'ímpet': False, 'med': False, 'infern': False, 'us': False, 'forç': False, 'obje': False, 'apav': False, 'fer': False, 'profund': False, 'despej': False, 'cól': False, 'atorment': False, 'contrari': False, 'constru': False, 'termin': False, 'trabalho,': False, 'frustr': False, 'ruim': False, 'destró': False, 'separ': False, 'vest': False, 'pud': False, 'compr': False, 'celul': False, 'show': False, 'horror': False, 'ingress': False, 'estrag': False, 'possu': False, 'algum': False, 'pobr': False, 'prejudic': False, 'nov': False, 'ridícul': False, 'apert': False, 'music': False, 'ofens': False, 'taref': False, 'difícil': False, 'reprov': False, 'gradu': False, 'odei': False, 'despraz': False, 'conhecê-l': False, 'desperdiç': False, 'ranc': False, 'vet': False, 'orç': False, 'client': False, 'consent': False, 'descas': False, 'desprez': False, 'descont': False, 'famíl': False, 'furi': False, 'obrig': False, 'lado?': False, 'sobr': False, 'enfurec': False, 'diab': False, 'corp': False, 'diaból': False, 'gent': False, 'chat': False, 'perdo': False, 'tra': False, 'corrupt': False, 'crucific': False, 'enlouquec': False, 'barulh': False, 'assedi': False, 'drag': False, 'ridículo!': False, 'vez,': False, 'invent': False, 'tolos!': False, 'escapar!': False, 'jamal': False, 'isso?': False, 'mult': False, 'limites!': False, 'sente-s': False, 'cal': False, 'boc': False, 'ingratosvermesvoc': False, 'pagam!': False, 'sai': False, 'dai,': False, 'arranc': False, 'dai!': False, 'caus': False, 'problem': False, 'sufici': False, 'got': False, 'd’agu': False, 'entend': False, 'safados!': False, 'merec': False, 'piedad': False, 'sum': False, 'daqui,': False, 'couro!': False, 'revolt': False, 'idiota!': False, 'emprest': False, 'dinheiro!': False, 'cafajeste!': False, 'emb': False, 'par': False, 'fresc': False, 'vá': False, 'liç': False, 'aind': False, 'brav': False, 'surr': False, 'chantag': False, 'fez!': False, 'derramou!': False, 'apanhar!': False, 'paz!': False, 'morr': False, 'maldito,': False, 'morra!': False, 'irrit': False, 'fech': False, 'bic': False, 'magic': False, 'surpreend': False, 'imens': False, 'glob': False, 'tremend': False, 'interess': False, 'bilhet': False, 'sorteado,': False, 'inacreditável!': False, 'mão': False, 'armada!': False, 'incrível,': False, 'cab': False, 'qualqu': False, 'lugar!': False, 'aqui?': False, 'dá': False, 'acredit': False, 'convid': False, 'chegando!': False, 'pux': False, 'vida!': False, 'mich': False, 'cart': False, 'sumiu,': False, 'oh!': False, 'disc': False, 'voad': False, 'amigos,': False, 'surpresa!': False, 'vei': False, 'descar': False, 'falt': False, 'tat': False, 'predi': False, 'ond': False, 'mor': False, 'desabou!': False, 'inacredit': False, 'bol': False, 'seri': False, 'mesmo?': False, 'encontro?': False, 'casa?': False, 'ue,': False, 'foi?!': False, 'nossa,': False, 'mergulh': False, 'esp': False, 'grávida!': False, 'sumiu!': False, 'doi': False, 'terminaram?!?': False, 'caramba,': False, 'vi': False, 'cheg': False, 'cozinh': False, 'mal?': False, 'fórmul': False, 'comig': False, 'escond': False, 'alg': False, 'nós!': False, 'assim,': False, 'pronta!': False, 'opa!': False, 'apag': False, 'luz?': False, 'caramba!': False, 'aond': False, 'rápido?': False, 'segu': False, 'errado!': False, 'quatr': False, 'litr': False, 'gasolina!': False, 'vê-l': False, 'jeito!': False, 'mãe': False, 'grávida,': False, 'nisso?': False, 'cresc': False, 'imagin': False, 'conseg': False, 'bela?': False, 'deslumbr': False, 'super': False, 'expect': False, 'comport': False, 'notici': False, 'espant': False, 'verd': False, 'nel': False, 'perplex': False, 'denunc': False, 'fiq': False, 'palavr': False, 'abism': False, 'pros': False, 'grup': False, 'enquant': False, 'lav': False, 'carr': False, 'boquiabert': False, 'imag': False, 'quadr': False, 'encontrá-l': False, 'emudec': False, 'mulh': False, 'efeit': False, 'natur': False, 'jói': False, 'român': False, 'esplênd': False, 'esplend': False, 'ceu': False, 'encontr': False, 'moment': False, 'fant': False, 'edifíci': False, 'abandon': False, 'abat': False, 'trist': False, 'aborrec': False, 'afl': False, 'aflig': False, 'mod': False, 'fal': False, 'agon': False, 'intim': False, 'faz': False, 'ansi': False, 'tens': False, 'chor': False, 'lagr': False, 'perd': False, 'arrepend': False, 'carm': False, 'volta,': False, 'poi': False, 'sofr': False, 'cumpr': False, 'promess': False, 'amargur': False, 'coit': False, 'tard': False, 'machuc': False, 'mud': False, 'dói': False, 'derrot': False, 'deprim': False, 'brasil': False, 'culp': False, 'ansiedad': False, 'jeit': False, 'ult': False, 'propost': False, 'centav': False, 'ano': False, 'afinal': False, 'sab': False, 'desfaz': False, 'falh': False, 'humilh': False, 'histór': False, 'sirv': False, 'droga,': False, 'direit': False, 'dobr': False, 'demit': False, 'seman': False, 'adult': False, 'ruim,': False, 'pi': False, 'repent': False, 'apetit': False, 'oh': False, 'infeliz': False, 'rest': False, 'esperanç': False, 'salári': False, 'vestibul': False, 'import': False, 'azar': False, 'vinganç': False, 'desanim': False, 'desan': False, 'discrimin': False, 'desonr': False, 'preocup': False, 'dev': False, 'açã': False, 'desalent': False, 'viu': False, 'reconhec': False, 'vici': False}, 'alegria'), ({'trabalh': False, 'agrad': False, 'gost': True, 'fic': True, 'aconcheg': True, 'fiz': False, 'ades': False, 'curs': False, 'hoj': False, 'admir': False, 'muit': False, 'ador': False, 'cabel': False, 'maci': False, 'cor': False, 'olh': False, 'som': False, 'tão': False, 'am': False, 'outr': False, 'sint': False, 'grand': False, 'afe': False, 'quer': False, 'filh': False, 'complet': False, 'amo': False, 'alivi': False, 'dor': False, 'ameniz': False, 'final': False, 'ach': False, 'apaixon': False, 'maravilh': False, 'sent': False, 'anim': False, 'bem': False, 'lu': False, 'bel': False, 'dia': False, 'bonit': False, 'afortun': False, 'mund': False, 'receb': False, 'car': False, 'coleg': False, 'reconfort': False, 'bom': False, 'est': False, 'amig': False, 'cont': False, 'result': False, 'test': False, 'pint': False, 'brilh': False, 'águ': False, 'abundanc': False, 'roup': False, 'delic': False, 'comedi': False, 'bondad': False, 'vir': False, 'aqu': False, 'lind': False, 'amizad': False, 'vai': False, 'dur': False, 'sempr': False, 'eufór': False, 'notic': False, 'real': False, 'fiel': False, 'mim': False, 'vou': False, 'dar': False, 'fest': False, 'comemor': False, 'aniversári': False, 'graç': False, 'deu': False, 'enxerg': False, 'cert': False, 'melhor': False, 'escolh': False, 'tod': False, 'incr': False, 'engraç': False, 'tent': False, 'explic': False, 'emocion': False, 'nest': False, 'lug': False, 'cativ': False, 'louc': False, 'nunc': False, 'duvid': False, 'rode': False, 'abraç': False, 'vej': False, 'estrel': False, 'caminh': False, 'sol': False, 'pert': False, 'sorr': False, 'orelh': False, 'val': False, 'pen': False, 'coloc': False, 'prim': False, 'danç': False, 'noit': False, 'adentr': False, 'toq': False, 'coraçã': False, 'companh': False, 'traz': False, 'volt': False, 'vid': False, 'sonh': False, 'doc': False, 'frut': False, 'suc': False, 'favorit': False, 'agradec': False, 'ajud': False, 'enorm': False, 'praz': False, 'ter': False, 'equip': False, 'flutu': False, 'ar': False, 'bris': False, 'ótim': False, 'compat': False, 'órg': False, 'paci': False, 'aceit': False, 'faculdad': False, 'aprov': False, 'exam': False, 'benefici': False, 'empr': False, 'apoi': False, 'confort': False, 'quent': False, 'fri': False, 'elogi': False, 'demal': False, 'cham': False, 'desej': False, 'presenç': False, 'apresent': False, 'grat': False, 'dedic': False, 'naquil': False, 'faç': False, 'vam': False, 'agit': False, 'signif': False, 'agir': False, 'preconceit': False, 'julg': False, 'coleção,': False, 'rainh': False, 'satisf': False, 'anunci': False, 'venc': False, 'jog': False, 'atr': False, 'facil': False, 'rapaz': False, 'extrem': False, 'atra': False, 'sinto-m': False, 'viv': False, 'paz': False, 'tend': False, 'lucr': False, 'tud': False, 'ord': False, 'agor': False, 'pod': False, 'arrum': False, 'empreg': False, 'junt': False, 'terminada,': False, 'alívi': False, 'cânc': False, 'benign': False, 'abund': False, 'ser': False, 'carid': False, 'natal': False, 'charm': False, 'irá': False, 'cuidad': False, 'comov': False, 'tamanh': False, 'caridad': False, 'chá': False, 'alegr': False, 'aplaud': False, 'palm': False, 'aniversari': False, 'hor': False, 'apreci': False, 'vinh': False, 'escol': False, 'ansei': False, 'próx': False, 'amist': False, 'ânim': False, 'apazigu': False, 'concretiz': False, 'abomin': False, 'man': False, 'age': False, 'adoent': False, 'pai': False, 'doent': False, 'situ': False, 'amarg': False, 'diss': False, 'adeu': False, 'antipat': False, 'pesso': False, 'antipática!': False, 'horr': False, 'asquer': False, 'avers': False, 'agent': False, 'chate': False, 'ment': False, 'desagrad': False, 'desagr': False, 'enjô': False, 'terr': False, 'enf': False, 'enferm': False, 'grav': False, 'gross': False, 'fez': False, 'manobr': False, 'ileg': False, 'indecente,': False, 'vergonha?': False, 'malv': False, 'crianç': False, 'coment': False, 'mald': False, 'escrúpul': False, 'manipul': False, 'repuls': False, 'indispost': False, 'indispos': False, 'atac': False, 'vomit': False, 'lá': False, 'incomod': False, 'bob': False, 'noj': False, 'suj': False, 'náuse': False, 'lembr': False, 'nause': False, 'cheir': False, 'dest': False, 'com': False, 'obstru': False, 'pass': False, 'terri': False, 'fei': False, 'atitud': False, 'deplor': False, 'mau': False, 'desgost': False, 'cort': False, 'assunt': False, 'tant': False, 'chateação?': False, 'perfum': False, 'enjo': False, 'perig': False, 'nad': False, 'fet': False, 'esgot': False, 'fed': False, 'cachorr': False, 'malcheir': False, 'ultraj': False, 'part': False, 'assim': False, 'mal': False, 'sociedad': False, 'criat': False, 'depress': False, 'vê': False, 'asc': False, 'dess': False, 'cois': False, 'hediondo!': False, 'golf': False, 'caf': False, 'garot': False, 'detestável!': False, 'obscen': False, 'frent': False, 'rud': False, 'visit': False, 'travess': False, 'educ': False, 'divorci': False, 'patetico,': False, 'dizer?': False, 'motiv': False, 'torpe,': False, 'mei': False, 'cruel': False, 'impossibil': False, 'defês': False, 'vítim': False, 'invej': False, 'vil': False, 'vergonh': False, 'ning': False, 'atrev': False, 'confessá-l': False, 'miser': False, 'recei': False, 'sentiment': False, 'modern': False, 'gat': False, 'saudad': False, 'don': False, 'mij': False, 'sapat': False, 'ato': False, 'detest': False, 'cov': False, 'revel': False, 'apen': False, 'destru': False, 'pov': False, 'sei': False, 'patife,': False, 'hom': False, 'honest': False, 'suport': False, 'insuport': False, 'injur': False, 'temp': False, 'injustiç': False, 'odi': False, 'desum': False, 'public': False, 'conteúd': False, 'odiento,': False, 'pornográf': False, 'ameaç': False, 'rancor': False, 'reprim': False, 'animal': False, 'degradante,': False, 'estúpido,': False, 'covarde,': False, 'lamentável,': False, 'egoísta,': False, 'virulent': False, 'debat': False, 'ent': False, 'polít': False, 'imploro,': False, 'matem!': False, 'perigoso?': False, 'segur': False, 'corr': False, 'pra': False, 'peg': False, 'socorro!': False, 'roub': False, 'doces!': False, 'persegu': False, 'entr': False, 'lá,': False, 'continu': False, 'assust': False, 'selv': False, 'avanc': False, 'cautel': False, 'silenci': False, 'mais,': False, 'cuidado!': False, 'favor,': False, 'deixe-m': False, 'viver!': False, 'mes': False, 'tir': False, 'not': False, 'baix': False, 'parec': False, 'vigi': False, 'tem': False, 'sentenç': False, 'juiz': False, 'poss': False, 'nega': False, 'miss': False, 'arrisc': False, 'salvem-s': False, 'puder!': False, 'plan': False, 'descobert': False, 'culpa,': False, 'jur': False, 'tom': False, 'cuid': False, 'lobisom': False, 'achar,': False, 'descobr': False, 'verdad': False, 'deus,': False, 'desapareceu!': False, 'daqui!': False, 'mantenh': False, 'segredo,': False, 'ferr': False, 'soltem,': False, 'inoc': False, 'ouv': False, 'atrás': False, 'ped': False, 'curv': False, 'estr': False, 'não,': False, 'trem': False, 'medo!': False, 'socorro,': False, 'cair!': False, 'ate': False, 'florest': False, 'negra,': False, 'ouç': False, 'direç': False, 'voltar,': False, 'fuja,': False, 'acab': False, 'mort': False, 'livr': False, 'armado!': False, 'ei': False, 'cuidado,': False, 'bat': False, 'poste!': False, 'afund': False, 'serio,': False, 'arma!': False, 'tub': False, 'atacando!': False, 'arrepi': False, 'so': False, 'escur': False, 'calma,': False, 'dinh': False, 'send': False, 'engan': False, 'ligeiro,': False, 'fug': False, 'crocodil': False, 'vind': False, 'cá': False, 'quiet': False, 'vão': False, 'fuja!': False, 'tigr': False, 'famint': False, 'saída,': False, 'precis': False, 'milagr': False, 'mim!': False, 'nadar,': False, 'afogar!': False, 'apanh': False, 'pal': False, 'ver': False, 'boletim': False, 'consig': False, 'sair': False, 'tarde,': False, 'assalt': False, 'deix': False, 'favor!': False, 'espere,': False, 'larg': False, 'seguranç': False, 'entreg': False, 'dinheiro,': False, 'favor': False, 'mate!': False, 'lev': False, 'dirij': False, 'rápid': False, 'descobriram,': False, 'irã': False, 'prender!': False, 'esper': False, 'nenhum': False, 'afogar,': False, 'salv': False, 'pens': False, 'acontec': False, 'ness': False, 'cidad': False, 'desgr': False, 'algu': False, 'ligando,': False, 'remedio,': False, 'mat': False, 'confi': False, 'nele,': False, 'descoberto,': False, 'ir': False, 'estremec': False, 'cas': False, 'mov': False, 'monstruos': False, 'agüent': False, 'suspens': False, 'afug': False, 'cão': False, 'choc': False, 'amedront': False, 'assassinat': False, 'brut': False, 'afugent': False, 'ímpet': False, 'med': False, 'infern': False, 'us': False, 'forç': False, 'obje': False, 'apav': False, 'fer': False, 'profund': False, 'despej': False, 'cól': False, 'atorment': False, 'contrari': False, 'constru': False, 'termin': False, 'trabalho,': False, 'frustr': False, 'ruim': False, 'destró': False, 'separ': False, 'vest': False, 'pud': False, 'compr': False, 'celul': False, 'show': False, 'horror': False, 'ingress': False, 'estrag': False, 'possu': False, 'algum': False, 'pobr': False, 'prejudic': False, 'nov': False, 'ridícul': False, 'apert': False, 'music': False, 'ofens': False, 'taref': False, 'difícil': False, 'reprov': False, 'gradu': False, 'odei': False, 'despraz': False, 'conhecê-l': False, 'desperdiç': False, 'ranc': False, 'vet': False, 'orç': False, 'client': False, 'consent': False, 'descas': False, 'desprez': False, 'descont': False, 'famíl': False, 'furi': False, 'obrig': False, 'lado?': False, 'sobr': False, 'enfurec': False, 'diab': False, 'corp': False, 'diaból': False, 'gent': False, 'chat': False, 'perdo': False, 'tra': False, 'corrupt': False, 'crucific': False, 'enlouquec': False, 'barulh': False, 'assedi': False, 'drag': False, 'ridículo!': False, 'vez,': False, 'invent': False, 'tolos!': False, 'escapar!': False, 'jamal': False, 'isso?': False, 'mult': False, 'limites!': False, 'sente-s': False, 'cal': False, 'boc': False, 'ingratosvermesvoc': False, 'pagam!': False, 'sai': False, 'dai,': False, 'arranc': False, 'dai!': False, 'caus': False, 'problem': False, 'sufici': False, 'got': False, 'd’agu': False, 'entend': False, 'safados!': False, 'merec': False, 'piedad': False, 'sum': False, 'daqui,': False, 'couro!': False, 'revolt': False, 'idiota!': False, 'emprest': False, 'dinheiro!': False, 'cafajeste!': False, 'emb': False, 'par': False, 'fresc': False, 'vá': False, 'liç': False, 'aind': False, 'brav': False, 'surr': False, 'chantag': False, 'fez!': False, 'derramou!': False, 'apanhar!': False, 'paz!': False, 'morr': False, 'maldito,': False, 'morra!': False, 'irrit': False, 'fech': False, 'bic': False, 'magic': False, 'surpreend': False, 'imens': False, 'glob': False, 'tremend': False, 'interess': False, 'bilhet': False, 'sorteado,': False, 'inacreditável!': False, 'mão': False, 'armada!': False, 'incrível,': False, 'cab': False, 'qualqu': False, 'lugar!': False, 'aqui?': False, 'dá': False, 'acredit': False, 'convid': False, 'chegando!': False, 'pux': False, 'vida!': False, 'mich': False, 'cart': False, 'sumiu,': False, 'oh!': False, 'disc': False, 'voad': False, 'amigos,': False, 'surpresa!': False, 'vei': False, 'descar': False, 'falt': False, 'tat': False, 'predi': False, 'ond': False, 'mor': False, 'desabou!': False, 'inacredit': False, 'bol': False, 'seri': False, 'mesmo?': False, 'encontro?': False, 'casa?': False, 'ue,': False, 'foi?!': False, 'nossa,': False, 'mergulh': False, 'esp': False, 'grávida!': False, 'sumiu!': False, 'doi': False, 'terminaram?!?': False, 'caramba,': False, 'vi': False, 'cheg': False, 'cozinh': False, 'mal?': False, 'fórmul': False, 'comig': False, 'escond': False, 'alg': False, 'nós!': False, 'assim,': False, 'pronta!': False, 'opa!': False, 'apag': False, 'luz?': False, 'caramba!': False, 'aond': False, 'rápido?': False, 'segu': False, 'errado!': False, 'quatr': False, 'litr': False, 'gasolina!': False, 'vê-l': False, 'jeito!': False, 'mãe': False, 'grávida,': False, 'nisso?': False, 'cresc': False, 'imagin': False, 'conseg': False, 'bela?': False, 'deslumbr': False, 'super': False, 'expect': False, 'comport': False, 'notici': False, 'espant': False, 'verd': False, 'nel': False, 'perplex': False, 'denunc': False, 'fiq': False, 'palavr': False, 'abism': False, 'pros': False, 'grup': False, 'enquant': False, 'lav': False, 'carr': False, 'boquiabert': False, 'imag': False, 'quadr': False, 'encontrá-l': False, 'emudec': False, 'mulh': False, 'efeit': False, 'natur': False, 'jói': False, 'român': False, 'esplênd': False, 'esplend': False, 'ceu': False, 'encontr': False, 'moment': False, 'fant': False, 'edifíci': False, 'abandon': False, 'abat': False, 'trist': False, 'aborrec': False, 'afl': False, 'aflig': False, 'mod': False, 'fal': False, 'agon': False, 'intim': False, 'faz': False, 'ansi': False, 'tens': False, 'chor': False, 'lagr': False, 'perd': False, 'arrepend': False, 'carm': False, 'volta,': False, 'poi': False, 'sofr': False, 'cumpr': False, 'promess': False, 'amargur': False, 'coit': False, 'tard': False, 'machuc': False, 'mud': False, 'dói': False, 'derrot': False, 'deprim': False, 'brasil': False, 'culp': False, 'ansiedad': False, 'jeit': False, 'ult': False, 'propost': False, 'centav': False, 'ano': False, 'afinal': False, 'sab': False, 'desfaz': False, 'falh': False, 'humilh': False, 'histór': False, 'sirv': False, 'droga,': False, 'direit': False, 'dobr': False, 'demit': False, 'seman': False, 'adult': False, 'ruim,': False, 'pi': False, 'repent': False, 'apetit': False, 'oh': False, 'infeliz': False, 'rest': False, 'esperanç': False, 'salári': False, 'vestibul': False, 'import': False, 'azar': False, 'vinganç': False, 'desanim': False, 'desan': False, 'discrimin': False, 'desonr': False, 'preocup': False, 'dev': False, 'açã': False, 'desalent': False, 'viu': False, 'reconhec': False, 'vici': False}, 'alegria'), ...]"
      ]
     },
     "execution_count": 13,
     "metadata": {},
     "output_type": "execute_result"
    }
   ],
   "source": [
    "base_completa "
   ]
  },
  {
   "cell_type": "code",
   "execution_count": null,
   "metadata": {},
   "outputs": [],
   "source": []
  },
  {
   "cell_type": "markdown",
   "metadata": {},
   "source": [
    "Creates the 'table' of probabilities - learning\n",
    "\n",
    "And then make the classification"
   ]
  },
  {
   "cell_type": "code",
   "execution_count": 14,
   "metadata": {},
   "outputs": [],
   "source": [
    "classificador = nltk.NaiveBayesClassifier.train(base_completa)"
   ]
  },
  {
   "cell_type": "code",
   "execution_count": null,
   "metadata": {},
   "outputs": [],
   "source": []
  },
  {
   "cell_type": "markdown",
   "metadata": {},
   "source": [
    "Shows classes"
   ]
  },
  {
   "cell_type": "code",
   "execution_count": 15,
   "metadata": {},
   "outputs": [
    {
     "name": "stdout",
     "output_type": "stream",
     "text": [
      "['alegria', 'desgosto', 'medo', 'raiva', 'surpresa', 'tristeza']\n"
     ]
    }
   ],
   "source": [
    "print(classificador.labels())"
   ]
  },
  {
   "cell_type": "code",
   "execution_count": null,
   "metadata": {},
   "outputs": [],
   "source": []
  },
  {
   "cell_type": "markdown",
   "metadata": {},
   "source": [
    "Shows the most informative features"
   ]
  },
  {
   "cell_type": "code",
   "execution_count": 16,
   "metadata": {},
   "outputs": [
    {
     "name": "stdout",
     "output_type": "stream",
     "text": [
      "Most Informative Features\n",
      "                 acredit = True           surpre : triste =      6.3 : 1.0\n",
      "                    real = True           surpre : alegri =      5.8 : 1.0\n",
      "                     vou = True            raiva : surpre =      5.7 : 1.0\n",
      "                     tão = True           surpre : raiva  =      4.3 : 1.0\n",
      "                     dia = True           triste : alegri =      4.0 : 1.0\n",
      "                     vid = True           triste : alegri =      4.0 : 1.0\n",
      "                     ser = True             medo : alegri =      4.0 : 1.0\n",
      "                     pod = True             medo : alegri =      4.0 : 1.0\n",
      "                 depress = True           triste : desgos =      3.9 : 1.0\n",
      "                     mim = True           triste : medo   =      3.7 : 1.0\n",
      "None\n"
     ]
    }
   ],
   "source": [
    "print(classificador.show_most_informative_features(10))"
   ]
  },
  {
   "cell_type": "markdown",
   "metadata": {},
   "source": [
    "For example, if \"acredit\" is equal to True, the probability of being a surprise is 6.3 greater than being a phrase of sadness. Or \"real\" connates surprise 5.8 times more than joy"
   ]
  },
  {
   "cell_type": "markdown",
   "metadata": {},
   "source": [
    "But wrongly 2 stopwords - \"vou\" and \"tão\". An adjustment must be made"
   ]
  },
  {
   "cell_type": "code",
   "execution_count": 17,
   "metadata": {},
   "outputs": [],
   "source": [
    "stopwords_nltk.append('vou')\n",
    "stopwords_nltk.append('tão')"
   ]
  },
  {
   "cell_type": "markdown",
   "metadata": {},
   "source": [
    "And the code needs to be run again"
   ]
  },
  {
   "cell_type": "code",
   "execution_count": null,
   "metadata": {},
   "outputs": [],
   "source": []
  },
  {
   "cell_type": "code",
   "execution_count": 18,
   "metadata": {},
   "outputs": [
    {
     "name": "stdout",
     "output_type": "stream",
     "text": [
      "Most Informative Features\n",
      "                 acredit = True           surpre : triste =      6.3 : 1.0\n",
      "                    real = True           surpre : alegri =      5.8 : 1.0\n",
      "                     vou = True            raiva : surpre =      5.7 : 1.0\n",
      "                     tão = True           surpre : raiva  =      4.3 : 1.0\n",
      "                     dia = True           triste : alegri =      4.0 : 1.0\n",
      "                     vid = True           triste : alegri =      4.0 : 1.0\n",
      "                     ser = True             medo : alegri =      4.0 : 1.0\n",
      "                     pod = True             medo : alegri =      4.0 : 1.0\n",
      "                 depress = True           triste : desgos =      3.9 : 1.0\n",
      "                     mim = True           triste : medo   =      3.7 : 1.0\n",
      "None\n"
     ]
    }
   ],
   "source": [
    "print(classificador.show_most_informative_features(10))"
   ]
  },
  {
   "cell_type": "markdown",
   "metadata": {},
   "source": [
    "You can increase the number shown to check for other stopwords"
   ]
  },
  {
   "cell_type": "code",
   "execution_count": null,
   "metadata": {},
   "outputs": [],
   "source": []
  },
  {
   "cell_type": "markdown",
   "metadata": {},
   "source": [
    "Sentence to test"
   ]
  },
  {
   "cell_type": "code",
   "execution_count": 19,
   "metadata": {},
   "outputs": [],
   "source": [
    "teste = \"eu sinto amor por voce\""
   ]
  },
  {
   "cell_type": "code",
   "execution_count": 20,
   "metadata": {},
   "outputs": [
    {
     "name": "stdout",
     "output_type": "stream",
     "text": [
      "['eu', 'sint', 'am', 'por', 'voc']\n"
     ]
    }
   ],
   "source": [
    "teste_stemming = []\n",
    "stemmer = nltk.stem.RSLPStemmer()\n",
    "for (palavras) in teste.split():\n",
    "    com_stem = [p for p in palavras.split()]\n",
    "    teste_stemming.append(str(stemmer.stem(com_stem[0])))\n",
    "print(teste_stemming)"
   ]
  },
  {
   "cell_type": "code",
   "execution_count": null,
   "metadata": {},
   "outputs": [],
   "source": []
  },
  {
   "cell_type": "markdown",
   "metadata": {},
   "source": [
    "Extraction of words from each sentence"
   ]
  },
  {
   "cell_type": "code",
   "execution_count": 21,
   "metadata": {},
   "outputs": [],
   "source": [
    "novo = extrator_palavras(teste_stemming)\n",
    "#print(novo)"
   ]
  },
  {
   "cell_type": "code",
   "execution_count": null,
   "metadata": {},
   "outputs": [],
   "source": []
  },
  {
   "cell_type": "markdown",
   "metadata": {},
   "source": [
    "Do classification"
   ]
  },
  {
   "cell_type": "code",
   "execution_count": 22,
   "metadata": {},
   "outputs": [
    {
     "name": "stdout",
     "output_type": "stream",
     "text": [
      "alegria\n"
     ]
    }
   ],
   "source": [
    "print(classificador.classify(novo))"
   ]
  },
  {
   "cell_type": "code",
   "execution_count": null,
   "metadata": {},
   "outputs": [],
   "source": []
  },
  {
   "cell_type": "markdown",
   "metadata": {},
   "source": [
    "Shows odds"
   ]
  },
  {
   "cell_type": "code",
   "execution_count": 24,
   "metadata": {},
   "outputs": [
    {
     "name": "stdout",
     "output_type": "stream",
     "text": [
      "alegria: 0.878366\n",
      "desgosto: 0.016351\n",
      "medo: 0.003073\n",
      "raiva: 0.009807\n",
      "surpresa: 0.001318\n",
      "tristeza: 0.091085\n"
     ]
    }
   ],
   "source": [
    "distribuicao = classificador.prob_classify(novo)\n",
    "for classe in distribuicao.samples():\n",
    "\tprint(\"%s: %f\" % (classe, distribuicao.prob(classe)))"
   ]
  },
  {
   "cell_type": "code",
   "execution_count": null,
   "metadata": {},
   "outputs": [],
   "source": []
  },
  {
   "cell_type": "markdown",
   "metadata": {},
   "source": [
    "# Accuracy"
   ]
  },
  {
   "cell_type": "markdown",
   "metadata": {},
   "source": [
    "Removes stopwords and stemming from test database"
   ]
  },
  {
   "cell_type": "code",
   "execution_count": 25,
   "metadata": {},
   "outputs": [],
   "source": [
    "def aplicastemmer(texto):\n",
    "\tstemmer = nltk.stem.RSLPStemmer()\n",
    "\tfrasesstemming = []\n",
    "\t\n",
    "\tfor (palavras, emocao) in texto:\n",
    "\t\tcomstemming = [str(stemmer.stem(p)) for p in palavras.split() if p not in stopwords_nltk]\n",
    "\t\tfrasesstemming.append((comstemming, emocao))\n",
    "\n",
    "\treturn frasesstemming \n",
    "\n",
    "frasescomstemming_treinamento = aplicastemmer(basetreinamento)\n",
    "frasescomstemming_teste = aplicastemmer(baseteste)"
   ]
  },
  {
   "cell_type": "code",
   "execution_count": null,
   "metadata": {},
   "outputs": [],
   "source": []
  },
  {
   "cell_type": "markdown",
   "metadata": {},
   "source": [
    "Returns all words that exist in the database"
   ]
  },
  {
   "cell_type": "code",
   "execution_count": 26,
   "metadata": {},
   "outputs": [],
   "source": [
    "def busca_palavras(frases):\n",
    "\ttodas_palavras = []\n",
    "\tfor (palavras, emocao) in frases:\n",
    "\t\ttodas_palavras.extend(palavras)\n",
    "\treturn todas_palavras\n",
    "\n",
    "palavras_treinamento = busca_palavras(frasescomstemming_treinamento)\n",
    "palavras_teste = busca_palavras(frasescomstemming_teste)"
   ]
  },
  {
   "cell_type": "code",
   "execution_count": null,
   "metadata": {},
   "outputs": [],
   "source": []
  },
  {
   "cell_type": "markdown",
   "metadata": {},
   "source": [
    "Extract the frequency of words"
   ]
  },
  {
   "cell_type": "code",
   "execution_count": 27,
   "metadata": {},
   "outputs": [],
   "source": [
    "def buscafrequencia(palavras):\n",
    "\tpalavras = nltk.FreqDist(palavras)\n",
    "\treturn palavras\n",
    "\n",
    "frequencia_treinamento = buscafrequencia(palavras_treinamento)\n",
    "frequencia_teste = buscafrequencia(palavras_teste)"
   ]
  },
  {
   "cell_type": "code",
   "execution_count": null,
   "metadata": {},
   "outputs": [],
   "source": []
  },
  {
   "cell_type": "markdown",
   "metadata": {},
   "source": [
    "Extraction of single words"
   ]
  },
  {
   "cell_type": "code",
   "execution_count": 28,
   "metadata": {},
   "outputs": [],
   "source": [
    "def busca_palavras_unicas(frequencia):\n",
    "\tfreq = frequencia.keys()\n",
    "\treturn freq\n",
    "\n",
    "palavras_unicas_treinamento = busca_palavras_unicas(frequencia_treinamento)\n",
    "palavras_unicas_teste = busca_palavras_unicas(frequencia_teste)"
   ]
  },
  {
   "cell_type": "code",
   "execution_count": null,
   "metadata": {},
   "outputs": [],
   "source": []
  },
  {
   "cell_type": "code",
   "execution_count": null,
   "metadata": {},
   "outputs": [],
   "source": [
    "Extraction of words from each sentence"
   ]
  },
  {
   "cell_type": "code",
   "execution_count": 31,
   "metadata": {},
   "outputs": [],
   "source": [
    "def extrator_palavras(documento):\n",
    "\tdoc = set(documento)\n",
    "\tcaracteristicas = {}\n",
    "\tfor palavras in palavras_unicas:\n",
    "\t\tcaracteristicas['%s' % palavras] = (palavras in doc)\n",
    "\treturn caracteristicas\n",
    "\n",
    "#caracteristicas_frase = extrator_palavras(['am', 'nov', 'dia']) "
   ]
  },
  {
   "cell_type": "code",
   "execution_count": null,
   "metadata": {},
   "outputs": [],
   "source": []
  },
  {
   "cell_type": "markdown",
   "metadata": {},
   "source": [
    "Creates the complete database"
   ]
  },
  {
   "cell_type": "code",
   "execution_count": 32,
   "metadata": {},
   "outputs": [],
   "source": [
    "base_completa_treinamento = nltk.classify.apply_features(extrator_palavras, frasescomstemming_treinamento)\n",
    "base_completa_teste = nltk.classify.apply_features(extrator_palavras, frasescomstemming_teste)"
   ]
  },
  {
   "cell_type": "code",
   "execution_count": null,
   "metadata": {},
   "outputs": [],
   "source": []
  },
  {
   "cell_type": "markdown",
   "metadata": {},
   "source": [
    "Creates the 'table' of probabilities - learning\n",
    "\n",
    "And then make the classification"
   ]
  },
  {
   "cell_type": "code",
   "execution_count": 33,
   "metadata": {},
   "outputs": [],
   "source": [
    "classificador = nltk.NaiveBayesClassifier.train(base_completa_treinamento)"
   ]
  },
  {
   "cell_type": "code",
   "execution_count": null,
   "metadata": {},
   "outputs": [],
   "source": []
  },
  {
   "cell_type": "markdown",
   "metadata": {},
   "source": [
    "Shows result of algorithm accuracy"
   ]
  },
  {
   "cell_type": "markdown",
   "metadata": {},
   "source": [
    "Shows the behavior with the same database - the same table used to make probability / do training and the same to evaluate / know the accuracy - this is incorrect"
   ]
  },
  {
   "cell_type": "code",
   "execution_count": 36,
   "metadata": {},
   "outputs": [
    {
     "name": "stdout",
     "output_type": "stream",
     "text": [
      "0.9312267657992565\n"
     ]
    }
   ],
   "source": [
    "print(nltk.classify.accuracy(classificador, base_completa_treinamento))"
   ]
  },
  {
   "cell_type": "markdown",
   "metadata": {},
   "source": [
    "As it is the same basis is a very high percentage. In mining of emotions the percentage is usually 70% to 80%"
   ]
  },
  {
   "cell_type": "code",
   "execution_count": null,
   "metadata": {},
   "outputs": [],
   "source": []
  },
  {
   "cell_type": "markdown",
   "metadata": {},
   "source": [
    "Now with the test base"
   ]
  },
  {
   "cell_type": "code",
   "execution_count": 37,
   "metadata": {},
   "outputs": [
    {
     "name": "stdout",
     "output_type": "stream",
     "text": [
      "0.32894736842105265\n"
     ]
    }
   ],
   "source": [
    "print(nltk.classify.accuracy(classificador, base_completa_teste))"
   ]
  },
  {
   "cell_type": "code",
   "execution_count": null,
   "metadata": {},
   "outputs": [],
   "source": []
  },
  {
   "cell_type": "markdown",
   "metadata": {},
   "source": [
    "1 - Check scenario"
   ]
  },
  {
   "cell_type": "markdown",
   "metadata": {},
   "source": [
    "For publication of a scientific article 32% is a low percentage, for example"
   ]
  },
  {
   "cell_type": "code",
   "execution_count": null,
   "metadata": {},
   "outputs": [],
   "source": []
  },
  {
   "cell_type": "markdown",
   "metadata": {},
   "source": [
    "2 - Check number of classes"
   ]
  },
  {
   "cell_type": "markdown",
   "metadata": {},
   "source": [
    "6 classes <br>\n",
    "100/6 = 16.6 <br>\n",
    "That means that the probability that you guessing an emotion is 16,% <br>\n",
    "In this the algorithm passes the test"
   ]
  },
  {
   "cell_type": "code",
   "execution_count": null,
   "metadata": {},
   "outputs": [],
   "source": []
  },
  {
   "cell_type": "markdown",
   "metadata": {},
   "source": [
    "3 - ZeroR"
   ]
  },
  {
   "cell_type": "markdown",
   "metadata": {},
   "source": [
    "Uses the class with the highest number of records and classifies all the new texts that enter <br>\n",
    "In this case there is 30% for test and for 5 of the emotions there are 120 registers <br>\n",
    "When withdrawing 30% the result is 36 phrases<br>\n",
    "If I pick up 36 sentences from the 5 emotions (36 * 5) it has the total of 180<br>\n",
    "When adding up 48 test phrases of joy emotion the result is 228 phrases<br>\n",
    "<br>\n",
    "The class that has the highest number of records = 48 (alegria)<br>\n",
    "The total number of records = 228<br>\n",
    "(48/228) * 100 = 21.05%"
   ]
  },
  {
   "cell_type": "markdown",
   "metadata": {},
   "source": [
    "This indicates that the new phrases that you submit to the system and rate as joy have 21.05% chance to guess"
   ]
  },
  {
   "cell_type": "markdown",
   "metadata": {},
   "source": [
    "32% is greater than 21%, so it's worth using the algorithm"
   ]
  },
  {
   "cell_type": "code",
   "execution_count": null,
   "metadata": {},
   "outputs": [],
   "source": []
  },
  {
   "cell_type": "code",
   "execution_count": null,
   "metadata": {},
   "outputs": [],
   "source": []
  }
 ],
 "metadata": {
  "kernelspec": {
   "display_name": "Python 3",
   "language": "python",
   "name": "python3"
  },
  "language_info": {
   "codemirror_mode": {
    "name": "ipython",
    "version": 3
   },
   "file_extension": ".py",
   "mimetype": "text/x-python",
   "name": "python",
   "nbconvert_exporter": "python",
   "pygments_lexer": "ipython3",
   "version": "3.7.1"
  }
 },
 "nbformat": 4,
 "nbformat_minor": 2
}
